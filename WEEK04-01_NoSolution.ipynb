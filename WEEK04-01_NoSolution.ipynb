{
 "cells": [
  {
   "cell_type": "markdown",
   "metadata": {},
   "source": [
    "# 4주 1강: Data presentation, Histogram\n",
    "\n",
    "Allen B. Downey의 http://thinkstats2.com 코드를 참조했습니다.\n",
    "\n",
    "이번 강의는 데이터를 보여주는 가장 기본적인 방법에 대해서 이야기해보겠습니다."
   ]
  },
  {
   "cell_type": "markdown",
   "metadata": {},
   "source": [
    "값들이 들어있는 리스트가 있을 때, 각 성분의 수를 재는 방법은 다양합니다.\n",
    "몇 가지 방법을 소개하고 비교해 보겠습니다.\n",
    "\n",
    "원 교과서 예제 코드의 thinkstats2 package를 사용하지 않고, 다시 자체 구현하겠습니다.\n",
    "교과서 코드는 교과서 github에 있으니 그것도 따로 보시면 좋습니다."
   ]
  },
  {
   "cell_type": "code",
   "execution_count": 1,
   "metadata": {},
   "outputs": [],
   "source": [
    "values = [5,5,3,1,1,2,1,2,1,3,3,4,5,5]"
   ]
  },
  {
   "cell_type": "markdown",
   "metadata": {},
   "source": [
    "가장 직관적인 방법은 Python의 내장 for문과 dictionary입니다."
   ]
  },
  {
   "cell_type": "code",
   "execution_count": 2,
   "metadata": {},
   "outputs": [
    {
     "data": {
      "text/plain": [
       "{5: 4, 3: 3, 1: 4, 2: 2, 4: 1}"
      ]
     },
     "execution_count": 2,
     "metadata": {},
     "output_type": "execute_result"
    }
   ],
   "source": [
    "hist = {}\n",
    "for x in values:\n",
    "    hist[x] = hist.get(x, 0) + 1\n",
    "hist"
   ]
  },
  {
   "cell_type": "markdown",
   "metadata": {},
   "source": [
    "Python 표준 라이브러리 중 `collections` 모듈이 있습니다 (python >= 2.7)\n",
    "이 중 `Counter`라는 함수를 쓸 수 있습니다."
   ]
  },
  {
   "cell_type": "code",
   "execution_count": 3,
   "metadata": {},
   "outputs": [
    {
     "data": {
      "text/plain": [
       "Counter({5: 4, 3: 3, 1: 4, 2: 2, 4: 1})"
      ]
     },
     "execution_count": 3,
     "metadata": {},
     "output_type": "execute_result"
    }
   ],
   "source": [
    "from collections import Counter\n",
    "counter = Counter(values)\n",
    "counter"
   ]
  },
  {
   "cell_type": "markdown",
   "metadata": {},
   "source": [
    "Python 표준 라이브러리 중 `itertools` 모듈의 `groupby` 함수를 쓰는 방법도 있습니다.\n",
    "아래의 점들을 잊으면 안됩니다.\n",
    "\n",
    "1. groupby는 정렬한 상태로 써야 합니다.\n",
    "2. groupby는 값이 아니라 iterator를 반환합니다."
   ]
  },
  {
   "cell_type": "code",
   "execution_count": 4,
   "metadata": {},
   "outputs": [
    {
     "data": {
      "text/plain": [
       "{1: 4, 2: 2, 3: 3, 4: 1, 5: 4}"
      ]
     },
     "execution_count": 4,
     "metadata": {},
     "output_type": "execute_result"
    }
   ],
   "source": [
    "from itertools import groupby\n",
    "{key: len(list(group)) for key, group in groupby(sorted(values))}"
   ]
  },
  {
   "cell_type": "code",
   "execution_count": 5,
   "metadata": {},
   "outputs": [],
   "source": [
    "import numpy as np\n",
    "hist = {key: val for key, val in enumerate(np.bincount(values))}"
   ]
  },
  {
   "cell_type": "code",
   "execution_count": 6,
   "metadata": {},
   "outputs": [
    {
     "name": "stdout",
     "output_type": "stream",
     "text": [
      "For loop:  7.731526851654053\n",
      "collections.Counter:  4.6534905433654785\n",
      "itertools.groupby:  14.379810571670532\n",
      "itertools.groupby sorted values:  10.735157251358032\n",
      "numpy bincount:  0.7102909088134766\n"
     ]
    }
   ],
   "source": [
    "# 속도테스트를 한 번 해 보죠.\n",
    "import random\n",
    "import time\n",
    "long_values = [random.uniform(1, 10) for _ in range(10000000)]\n",
    "\n",
    "start = time.time()\n",
    "hist = {}\n",
    "for x in long_values:\n",
    "    hist[x] = hist.get(x, 0) + 1\n",
    "print(\"For loop: \", time.time() - start)\n",
    "\n",
    "start = time.time()\n",
    "counter = Counter(long_values)\n",
    "print(\"collections.Counter: \", time.time() - start)\n",
    "\n",
    "start = time.time()\n",
    "hist = {key: len(list(group)) for key, group in groupby(sorted(long_values))}\n",
    "print(\"itertools.groupby: \", time.time() - start)\n",
    "\n",
    "sorted_long_values = sorted(long_values)\n",
    "start = time.time()\n",
    "hist = {key: len(list(group)) for key, group in groupby(sorted_long_values)}\n",
    "print(\"itertools.groupby sorted values: \", time.time() - start)\n",
    "\n",
    "start = time.time()\n",
    "hist = {key: val for key, val in enumerate(np.bincount(long_values))}\n",
    "print(\"numpy bincount: \", time.time() - start)"
   ]
  },
  {
   "cell_type": "markdown",
   "metadata": {},
   "source": [
    "당연히 dictionary니까 key값으로 조회 가능합니다. "
   ]
  },
  {
   "cell_type": "code",
   "execution_count": 7,
   "metadata": {},
   "outputs": [
    {
     "data": {
      "text/plain": [
       "1111036"
      ]
     },
     "execution_count": 7,
     "metadata": {},
     "output_type": "execute_result"
    }
   ],
   "source": [
    "hist[5]"
   ]
  },
  {
   "cell_type": "markdown",
   "metadata": {},
   "source": [
    "The `keys` 를 조회하면 value count의 x축이 나옵니다:"
   ]
  },
  {
   "cell_type": "code",
   "execution_count": 8,
   "metadata": {},
   "outputs": [
    {
     "data": {
      "text/plain": [
       "dict_keys([0, 1, 2, 3, 4, 5, 6, 7, 8, 9])"
      ]
     },
     "execution_count": 8,
     "metadata": {},
     "output_type": "execute_result"
    }
   ],
   "source": [
    "hist.keys()"
   ]
  },
  {
   "cell_type": "markdown",
   "metadata": {},
   "source": [
    "dict의 iteration은 keys()혹은 items()를 통해서 할 수 있습니다."
   ]
  },
  {
   "cell_type": "code",
   "execution_count": 9,
   "metadata": {},
   "outputs": [
    {
     "name": "stdout",
     "output_type": "stream",
     "text": [
      "0 0\n",
      "1 1111635\n",
      "2 1112349\n",
      "3 1111822\n",
      "4 1110538\n",
      "5 1111036\n",
      "6 1113021\n",
      "7 1110227\n",
      "8 1108020\n",
      "9 1111352\n"
     ]
    }
   ],
   "source": [
    "for key in sorted(hist.keys()):\n",
    "    print(key, hist[key])"
   ]
  },
  {
   "cell_type": "code",
   "execution_count": 10,
   "metadata": {},
   "outputs": [],
   "source": [
    "long_values = [random.uniform(1, 10) for _ in range(100)] \n",
    "hist = {key: val for key, val in enumerate(np.bincount(long_values)) if val != 0}"
   ]
  },
  {
   "cell_type": "code",
   "execution_count": 11,
   "metadata": {},
   "outputs": [
    {
     "name": "stdout",
     "output_type": "stream",
     "text": [
      "dict_items([(1, 11), (2, 6), (3, 20), (4, 7), (5, 13), (6, 11), (7, 6), (8, 14), (9, 12)])\n",
      "1 11\n",
      "2 6\n",
      "3 20\n",
      "4 7\n",
      "5 13\n",
      "6 11\n",
      "7 6\n",
      "8 14\n",
      "9 12\n"
     ]
    }
   ],
   "source": [
    "print(hist.items())\n",
    "for key, val in sorted(hist.items()):\n",
    "    print(key, val)"
   ]
  },
  {
   "cell_type": "code",
   "execution_count": 12,
   "metadata": {},
   "outputs": [
    {
     "data": {
      "image/png": "[encoded data removed]",
      "text/plain": [
       "<Figure size 432x288 with 1 Axes>"
      ]
     },
     "metadata": {
      "needs_background": "light"
     },
     "output_type": "display_data"
    }
   ],
   "source": [
    "from matplotlib import pyplot as plt\n",
    "plt.bar(list(hist.keys()), list(hist.values()))\n",
    "plt.xlabel(\"Value\")\n",
    "plt.ylabel(\"Frequency\")\n",
    "plt.show()"
   ]
  },
  {
   "cell_type": "code",
   "execution_count": 13,
   "metadata": {},
   "outputs": [
    {
     "data": {
      "image/png": "[encoded data removed]",
      "text/plain": [
       "<Figure size 432x288 with 1 Axes>"
      ]
     },
     "metadata": {
      "needs_background": "light"
     },
     "output_type": "display_data"
    }
   ],
   "source": [
    "from matplotlib import pyplot as plt\n",
    "plt.hist(long_values)\n",
    "#plt.hist(long_values, bins = range(1, 11), rwidth = 0.8) # bins를 조정해보세요\n",
    "plt.xlabel(\"Value\")\n",
    "plt.ylabel(\"Frequency\")\n",
    "plt.show()"
   ]
  },
  {
   "cell_type": "markdown",
   "metadata": {},
   "source": [
    "교과서 예제 파일을 가져와서 실제 데이터를 그려봅시다\n",
    "\n",
    "preg.outcome이 1인 아이들에 대한 정보만 가져와 봅시다 (출산시 생존)"
   ]
  },
  {
   "cell_type": "code",
   "execution_count": 14,
   "metadata": {},
   "outputs": [],
   "source": [
    "import pandas as pd\n",
    "preg = pd.read_csv(\"./2002FemPreg.tsv\", sep = \"\\t\")\n",
    "live = preg[preg.outcome == 1]"
   ]
  },
  {
   "cell_type": "markdown",
   "metadata": {},
   "source": [
    "탄생 시의 파운드 무게 (birthwgt_lb) 를 hisogram으로 그려봅시다. "
   ]
  },
  {
   "cell_type": "code",
   "execution_count": 15,
   "metadata": {},
   "outputs": [
    {
     "data": {
      "image/png": "[encoded data removed]",
      "text/plain": [
       "<Figure size 432x288 with 1 Axes>"
      ]
     },
     "metadata": {
      "needs_background": "light"
     },
     "output_type": "display_data"
    }
   ],
   "source": [
    "hist = plt.hist(live[\"birthwgt_lb\"], rwidth=0.8, label=\"birthwgt_lb\",\n",
    "                bins=range(int(live[\"birthwgt_lb\"].min()), int(live[\"birthwgt_lb\"].max()+1)))\n",
    "plt.xlabel(\"Birth weight (in pounds)\")\n",
    "plt.ylabel(\"Frequency\")\n",
    "plt.show()\n",
    "plt.close()"
   ]
  },
  {
   "cell_type": "code",
   "execution_count": 16,
   "metadata": {},
   "outputs": [
    {
     "data": {
      "image/png": "[encoded data removed]",
      "text/plain": [
       "<Figure size 432x288 with 1 Axes>"
      ]
     },
     "metadata": {
      "needs_background": "light"
     },
     "output_type": "display_data"
    }
   ],
   "source": [
    "hist = live[\"birthwgt_lb\"].plot.hist(rwidth=0.8, \n",
    "                                     bins=range(int(live[\"birthwgt_lb\"].min()), int(live[\"birthwgt_lb\"].max()+1)))\n",
    "plt.xlabel(\"Birth weight (in pounds)\")\n",
    "plt.ylabel(\"Frequency\")\n",
    "plt.show()\n",
    "plt.close()"
   ]
  },
  {
   "cell_type": "code",
   "execution_count": 17,
   "metadata": {},
   "outputs": [
    {
     "data": {
      "image/png": "[encoded data removed]",
      "text/plain": [
       "<Figure size 432x288 with 1 Axes>"
      ]
     },
     "metadata": {
      "needs_background": "light"
     },
     "output_type": "display_data"
    }
   ],
   "source": [
    "hist = live[\"agepreg\"].plot.hist(rwidth=0.8,\n",
    "                                 bins=range(int(live[\"agepreg\"].min()), int(live[\"agepreg\"].max()+1)))\n",
    "plt.xlabel(\"Years\")\n",
    "plt.ylabel(\"Count\")\n",
    "plt.show()\n",
    "#hist = thinkstats2.Hist(ages, label='agepreg')\n",
    "#thinkplot.Hist(hist)\n",
    "#thinkplot.Config(xlabel='years', ylabel='Count')"
   ]
  },
  {
   "cell_type": "markdown",
   "metadata": {},
   "source": [
    "연습을 위해서 임신 기간에 대한 histogram을 그려보세요 (column `prglngth`)."
   ]
  },
  {
   "cell_type": "code",
   "execution_count": 18,
   "metadata": {},
   "outputs": [
    {
     "data": {
      "image/png": "[encoded data removed]",
      "text/plain": [
       "<Figure size 432x288 with 1 Axes>"
      ]
     },
     "metadata": {
      "needs_background": "light"
     },
     "output_type": "display_data"
    }
   ],
   "source": [
    "# Solution goes here\n",
    "hist = live[\"prglngth\"].plot.hist(rwidth=0.8,\n",
    "                                 bins=range(int(live[\"prglngth\"].min()), int(live[\"prglngth\"].max()+1)))\n",
    "plt.xlabel(\"Weeks\")\n",
    "plt.ylabel(\"Count\")\n",
    "plt.show()"
   ]
  },
  {
   "cell_type": "markdown",
   "metadata": {},
   "source": [
    "가장 작은 값 10개와 그 빈도를 추출해봅시다."
   ]
  },
  {
   "cell_type": "code",
   "execution_count": 19,
   "metadata": {},
   "outputs": [
    {
     "data": {
      "text/plain": [
       "prglngth\n",
       "0     1\n",
       "4     1\n",
       "9     1\n",
       "13    1\n",
       "17    2\n",
       "18    1\n",
       "19    1\n",
       "20    1\n",
       "21    2\n",
       "22    7\n",
       "Name: caseid, dtype: int64"
      ]
     },
     "execution_count": 19,
     "metadata": {},
     "output_type": "execute_result"
    }
   ],
   "source": [
    "live.groupby(\"prglngth\").count()[\"caseid\"].sort_index()[0:10]"
   ]
  },
  {
   "cell_type": "markdown",
   "metadata": {},
   "source": [
    "가장 큰 값 10개와 그 빈도를 추출해봅시다"
   ]
  },
  {
   "cell_type": "code",
   "execution_count": 20,
   "metadata": {},
   "outputs": [
    {
     "data": {
      "text/plain": [
       "prglngth\n",
       "50       2\n",
       "48       7\n",
       "47       1\n",
       "46       1\n",
       "45      10\n",
       "44      46\n",
       "43     148\n",
       "42     328\n",
       "41     587\n",
       "40    1116\n",
       "Name: caseid, dtype: int64"
      ]
     },
     "execution_count": 20,
     "metadata": {},
     "output_type": "execute_result"
    }
   ],
   "source": [
    "# Solution goes here\n",
    "live.groupby(\"prglngth\").count()[\"caseid\"].sort_index(ascending=False)[0:10]"
   ]
  },
  {
   "cell_type": "markdown",
   "metadata": {},
   "source": [
    "첫 번째 아이와 나머지 아이를 구분해서 그림을 그려봅시다. `birthord`는 이 아이가 몇 번째 아이인지를 나타내 줍니다."
   ]
  },
  {
   "cell_type": "code",
   "execution_count": 21,
   "metadata": {},
   "outputs": [
    {
     "data": {
      "image/png": "[encoded data removed]",
      "text/plain": [
       "<Figure size 432x288 with 1 Axes>"
      ]
     },
     "metadata": {
      "needs_background": "light"
     },
     "output_type": "display_data"
    },
    {
     "data": {
      "image/png": "[encoded data removed]",
      "text/plain": [
       "<Figure size 432x288 with 1 Axes>"
      ]
     },
     "metadata": {
      "needs_background": "light"
     },
     "output_type": "display_data"
    }
   ],
   "source": [
    "firsts = live[live.birthord == 1]\n",
    "others = live[live.birthord != 1]\n",
    "hist = firsts[\"prglngth\"].plot.hist(rwidth=0.8, label=\"First\",\n",
    "                                 bins=range(int(live[\"prglngth\"].min()), int(live[\"prglngth\"].max()+1)))\n",
    "plt.xlabel(\"Weeks\")\n",
    "plt.ylabel(\"Count\")\n",
    "plt.legend()\n",
    "plt.show()\n",
    "plt.close()\n",
    "\n",
    "hist = others[\"prglngth\"].plot.hist(rwidth=0.8, label=\"Others\",\n",
    "                                 bins=range(int(live[\"prglngth\"].min()), int(live[\"prglngth\"].max()+1)))\n",
    "plt.xlabel(\"Weeks\")\n",
    "plt.ylabel(\"Count\")\n",
    "plt.legend()\n",
    "plt.show()\n",
    "plt.close()"
   ]
  },
  {
   "cell_type": "markdown",
   "metadata": {},
   "source": [
    "두 개를 한 번에 그려봅시다."
   ]
  },
  {
   "cell_type": "code",
   "execution_count": 22,
   "metadata": {},
   "outputs": [
    {
     "data": {
      "image/png": "[encoded data removed]",
      "text/plain": [
       "<Figure size 432x288 with 1 Axes>"
      ]
     },
     "metadata": {
      "needs_background": "light"
     },
     "output_type": "display_data"
    }
   ],
   "source": [
    "hist = firsts[\"prglngth\"].plot.hist(rwidth=0.45, label=\"First\", align=\"left\",\n",
    "                                 bins=range(int(live[\"prglngth\"].min()), int(live[\"prglngth\"].max()+1)))\n",
    "hist2 = others[\"prglngth\"].plot.hist(rwidth=0.45, label=\"Others\", align=\"mid\", \n",
    "                                 bins=range(int(live[\"prglngth\"].min()), int(live[\"prglngth\"].max()+1)))\n",
    "\n",
    "plt.xlabel(\"Weeks\")\n",
    "plt.ylabel(\"Count\")\n",
    "plt.legend()\n",
    "plt.show()\n",
    "plt.close()"
   ]
  },
  {
   "cell_type": "markdown",
   "metadata": {},
   "source": [
    "`Series` 는 다양한 요약 통계 방법들을 제공합니다."
   ]
  },
  {
   "cell_type": "code",
   "execution_count": 23,
   "metadata": {},
   "outputs": [],
   "source": [
    "mean = live.prglngth.mean()\n",
    "median = live.prglngth.median()\n",
    "var = live.prglngth.var()\n",
    "std = live.prglngth.std()"
   ]
  },
  {
   "cell_type": "markdown",
   "metadata": {},
   "source": [
    "평균(mean)과 표준편차를 출력해 봅시다"
   ]
  },
  {
   "cell_type": "code",
   "execution_count": 24,
   "metadata": {},
   "outputs": [
    {
     "data": {
      "text/plain": [
       "(38.56055968517709, 2.702343810070593)"
      ]
     },
     "execution_count": 24,
     "metadata": {},
     "output_type": "execute_result"
    }
   ],
   "source": [
    "mean, std"
   ]
  },
  {
   "cell_type": "markdown",
   "metadata": {},
   "source": [
    "연습삼아서 표준편차가 분산의 루트값이라는 사실을 확인해봅시다"
   ]
  },
  {
   "cell_type": "code",
   "execution_count": 25,
   "metadata": {},
   "outputs": [
    {
     "data": {
      "text/plain": [
       "(2.702343810070593, 2.702343810070593)"
      ]
     },
     "execution_count": 25,
     "metadata": {},
     "output_type": "execute_result"
    }
   ],
   "source": [
    "# Solution goes here\n",
    "var ** 0.5, std"
   ]
  },
  {
   "cell_type": "markdown",
   "metadata": {},
   "source": [
    "지난주에 이미 한 것이지만, 첫 아이의 임신기간과 그 이후 아이들의 임신기간을 비교해봅시다."
   ]
  },
  {
   "cell_type": "code",
   "execution_count": 26,
   "metadata": {},
   "outputs": [
    {
     "data": {
      "text/plain": [
       "(38.60095173351461, 38.52291446673706)"
      ]
     },
     "execution_count": 26,
     "metadata": {},
     "output_type": "execute_result"
    }
   ],
   "source": [
    "firsts.prglngth.mean(), others.prglngth.mean()"
   ]
  },
  {
   "cell_type": "markdown",
   "metadata": {},
   "source": [
    "차이는 아래와 같습니다."
   ]
  },
  {
   "cell_type": "code",
   "execution_count": 27,
   "metadata": {},
   "outputs": [
    {
     "data": {
      "text/plain": [
       "0.07803726677754952"
      ]
     },
     "execution_count": 27,
     "metadata": {},
     "output_type": "execute_result"
    }
   ],
   "source": [
    "firsts.prglngth.mean() - others.prglngth.mean()"
   ]
  },
  {
   "cell_type": "markdown",
   "metadata": {},
   "source": [
    "Cohen effect size는 두 집단의 평균 차이를 표준편차로 비교하는 방법입니다. \n",
    "\n",
    "$d = \\frac{<x_1> - <x_2>}{s}$\n",
    "\n",
    "와 같이 씁니다. 여기서 $<x_1>$, $<x_2>$는 각 집단의 평균이고, $s$는 합동 표준편차 (pooled standard deviation)이며 아래와 같이 계산합니다. \n",
    "\n",
    "$s = \\frac{n_1 \\times \\sigma^2_{x_1} - n_2 \\times \\sigma^2_{x_2}}{n_1 + n_2}$\n",
    "\n",
    "여기서 $\\sigma^2$은 분산, n은 각 집단의 크기입니다."
   ]
  },
  {
   "cell_type": "code",
   "execution_count": 28,
   "metadata": {},
   "outputs": [],
   "source": [
    "def CohenEffectSize(group1, group2):\n",
    "    diff = group1.mean() - group2.mean()\n",
    "\n",
    "    var1 = group1.var()\n",
    "    var2 = group2.var()\n",
    "    n1, n2 = len(group1), len(group2)\n",
    "\n",
    "    pooled_var = (n1 * var1 + n2 * var2) / (n1 + n2)\n",
    "    d = diff / np.sqrt(pooled_var)\n",
    "    return d"
   ]
  },
  {
   "cell_type": "markdown",
   "metadata": {},
   "source": [
    "위의 차이가 얼마나 의미가 있는지 첫 아이와 그 이후 아이의 임신기간 차이에 대한 Cohen effect size를 계산해봅시다. "
   ]
  },
  {
   "cell_type": "code",
   "execution_count": 29,
   "metadata": {},
   "outputs": [
    {
     "data": {
      "text/plain": [
       "0.028879044654449883"
      ]
     },
     "execution_count": 29,
     "metadata": {},
     "output_type": "execute_result"
    }
   ],
   "source": [
    "# Solution goes here\n",
    "CohenEffectSize(firsts.prglngth, others.prglngth)"
   ]
  },
  {
   "cell_type": "markdown",
   "metadata": {},
   "source": [
    "최빈값(mode)과 그 count를 구해봅시다."
   ]
  },
  {
   "cell_type": "code",
   "execution_count": 30,
   "metadata": {},
   "outputs": [
    {
     "data": {
      "text/plain": [
       "(0    39\n",
       " dtype: int64,\n",
       " 39    2114\n",
       " Name: prglngth, dtype: int64)"
      ]
     },
     "execution_count": 30,
     "metadata": {},
     "output_type": "execute_result"
    }
   ],
   "source": [
    "firsts.prglngth.mode(), firsts.prglngth.value_counts()[firsts.prglngth.mode()]"
   ]
  },
  {
   "cell_type": "markdown",
   "metadata": {},
   "source": [
    "그다지 크지 않습니다. 유의미한 차이가 아닐 가능성이 높다는 것이지요.\n",
    "이번에는 임신 기간의 pie chart를 그려봅시다"
   ]
  },
  {
   "cell_type": "code",
   "execution_count": 31,
   "metadata": {},
   "outputs": [
    {
     "data": {
      "image/png": "[encoded data removed]",
      "text/plain": [
       "<Figure size 432x288 with 1 Axes>"
      ]
     },
     "metadata": {},
     "output_type": "display_data"
    }
   ],
   "source": [
    "# Solution goes here\n",
    "plt.rcParams['figure.facecolor'] = 'white'\n",
    "live[\"prglngth\"].value_counts().plot.pie()\n",
    "#plt.xlabel(\"Income code\")\n",
    "#plt.ylabel(\"Frequency\")\n",
    "plt.show()\n",
    "plt.close()"
   ]
  },
  {
   "cell_type": "markdown",
   "metadata": {},
   "source": [
    "## Exercises"
   ]
  },
  {
   "cell_type": "markdown",
   "metadata": {},
   "source": [
    "`totalwgt_lb`를 통해서 첫 아이와 다른 아이들의 무게 차이에 대해서 분석해보세요\n",
    "\n",
    "일단 두 집단의 평균 차이를 구해보세요.\n",
    "\n",
    "그 다음에 두 집단의 차이를 CohenEffectSize를 통해 분석해 봅시다"
   ]
  },
  {
   "cell_type": "code",
   "execution_count": 32,
   "metadata": {},
   "outputs": [],
   "source": [
    "# Solution goes here"
   ]
  },
  {
   "cell_type": "code",
   "execution_count": 33,
   "metadata": {},
   "outputs": [],
   "source": [
    "# Solution goes here"
   ]
  },
  {
   "cell_type": "markdown",
   "metadata": {},
   "source": [
    "다음 문제를 위해서는 답변서 파일을 로드해봅시다."
   ]
  },
  {
   "cell_type": "code",
   "execution_count": 34,
   "metadata": {},
   "outputs": [],
   "source": [
    "resp = pd.read_csv(\"./2002FemResp.tsv\", sep=\"\\t\")"
   ]
  },
  {
   "cell_type": "markdown",
   "metadata": {},
   "source": [
    "<tt>totincr</tt>은 답변자 가구의 총 소득을 나타냅니다. Histogram을 그려봅시다.\n",
    "\n",
    "[codebook](http://www.icpsr.umich.edu/nsfg6/Controller?displayPage=labelDetails&fileCode=FEM&section=R&subSec=7876&srtLabel=607543) 을 보시면 각 구간의 의미가 나와있습니다"
   ]
  },
  {
   "cell_type": "code",
   "execution_count": 35,
   "metadata": {},
   "outputs": [],
   "source": [
    "# Solution goes here"
   ]
  },
  {
   "cell_type": "markdown",
   "metadata": {},
   "source": [
    "<tt>age_r</tt>의 histogram을 그려봅시다. 답변자의 인터뷰 당시 나이를 나타냅니다"
   ]
  },
  {
   "cell_type": "code",
   "execution_count": 36,
   "metadata": {},
   "outputs": [],
   "source": [
    "# Solution goes here"
   ]
  },
  {
   "cell_type": "markdown",
   "metadata": {},
   "source": [
    "<tt>numfmhh</tt>의 histogram을 그려봅시다. 답변자의 가족 수를 나타냅니다."
   ]
  },
  {
   "cell_type": "code",
   "execution_count": 37,
   "metadata": {},
   "outputs": [],
   "source": [
    "# Solution goes here"
   ]
  },
  {
   "cell_type": "markdown",
   "metadata": {},
   "source": [
    "<tt>parity</tt>의 histogram을 그려봅시다. 답변자의 아이 수를 나타냅니다. 이 분포를 어떻게 이해할 수 있을까요?"
   ]
  },
  {
   "cell_type": "code",
   "execution_count": 38,
   "metadata": {},
   "outputs": [],
   "source": [
    "# Solution goes here"
   ]
  },
  {
   "cell_type": "markdown",
   "metadata": {},
   "source": [
    "<tt>parity</tt>의 가장 큰 값을 찾아봅시다. outlier의 의미는 무엇일까요?"
   ]
  },
  {
   "cell_type": "code",
   "execution_count": 39,
   "metadata": {},
   "outputs": [],
   "source": [
    "# Solution goes here"
   ]
  },
  {
   "cell_type": "markdown",
   "metadata": {},
   "source": [
    "아래의 가설에 대해서 이야기 해 봅시다. 소득이 높은 사람이 더 아이를 많이 낳는다는 이야기가 있습니다. 이 자료가 절대적인 자료가 아니고, 서로 다른 나이 (위의 age_r 분포를 보시면 알 것입니다)의 서로 다른 답변자들에 대한 통계를 다루므로 정답이란 없습니다. 다양한 통계 지표를 보면서 확인해보죠. <tt>totincr</tt> level 14의 고소득 답변자와 기타 답변자들의 답변이 어떻게 다른지 알아봅시다 (<tt>parity</tt>)."
   ]
  },
  {
   "cell_type": "code",
   "execution_count": 40,
   "metadata": {},
   "outputs": [],
   "source": [
    "# Solution goes here"
   ]
  },
  {
   "cell_type": "markdown",
   "metadata": {},
   "source": [
    "고소득 답변자 중 가장 아이를 많이 낳은 경우를 확인해봅시다"
   ]
  },
  {
   "cell_type": "code",
   "execution_count": 41,
   "metadata": {},
   "outputs": [],
   "source": [
    "# Solution goes here"
   ]
  },
  {
   "cell_type": "markdown",
   "metadata": {},
   "source": [
    "두 집단의 <tt>parity<\\tt> 평균을 비교해 봅시다"
   ]
  },
  {
   "cell_type": "code",
   "execution_count": 42,
   "metadata": {},
   "outputs": [],
   "source": [
    "# Solution goes here"
   ]
  },
  {
   "cell_type": "markdown",
   "metadata": {},
   "source": [
    "Cohen effect size를 재 봅시다"
   ]
  },
  {
   "cell_type": "code",
   "execution_count": 43,
   "metadata": {},
   "outputs": [],
   "source": [
    "# Solution goes here"
   ]
  }
 ],
 "metadata": {
  "kernelspec": {
   "display_name": "Python 3",
   "language": "python",
   "name": "python3"
  },
  "language_info": {
   "codemirror_mode": {
    "name": "ipython",
    "version": 3
   },
   "file_extension": ".py",
   "mimetype": "text/x-python",
   "name": "python",
   "nbconvert_exporter": "python",
   "pygments_lexer": "ipython3",
   "version": "3.8.3"
  }
 },
 "nbformat": 4,
 "nbformat_minor": 4
}
