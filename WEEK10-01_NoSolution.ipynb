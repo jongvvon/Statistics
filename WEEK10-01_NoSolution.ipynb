{
 "cells": [
  {
   "cell_type": "markdown",
   "metadata": {},
   "source": [
    "# 10주 2강: Estimations\n",
    "\n",
    "Allen B. Downey의 http://thinkstats2.com 코드를 참조했습니다.\n",
    "\n",
    "이번 강의는 parameter의 추정에 대해서 배우겠습니다"
   ]
  },
  {
   "cell_type": "code",
   "execution_count": 1,
   "metadata": {},
   "outputs": [],
   "source": [
    "import numpy as np\n",
    "import random\n",
    "from matplotlib import pyplot as plt"
   ]
  },
  {
   "cell_type": "markdown",
   "metadata": {},
   "source": [
    "## Estimation of Mean\n",
    "parameter를 추정하는 것을 실제로 해 봅시다."
   ]
  },
  {
   "cell_type": "code",
   "execution_count": 2,
   "metadata": {},
   "outputs": [],
   "source": [
    "# 지난 시간에 배운 MSE의 Squre Root 값을 Root mean squared error라고 합니다. 이 값을 구하는 함수를 작성해봅시다\n",
    "# actual은 실제 값, estimates는 추정값들의 리스트입니다.\n",
    "def RMSE(estimates, actual):\n",
    "    e2 = [(estimate-actual)**2 for estimate in estimates]\n",
    "    mse = np.mean(e2)\n",
    "    return np.sqrt(mse)"
   ]
  },
  {
   "cell_type": "code",
   "execution_count": 3,
   "metadata": {},
   "outputs": [
    {
     "name": "stdout",
     "output_type": "stream",
     "text": [
      "Experiment 1\n",
      "rmse xbar 0.3715905159970496\n",
      "rmse median 0.46611313224662304\n"
     ]
    }
   ],
   "source": [
    "# mean과 median중 population을 더 잘 추정하는 것이 무엇인지 찾아보겠습니다.\n",
    "# n=7 인 standard gaussian 분포를 1000번 만들고 (mu = 0, sigma = 1), mean과 median의 rmse를 구해봅시다.\n",
    "\n",
    "def Estimate1(n=7, iters=1000):\n",
    "    mu = 0\n",
    "    sigma = 1\n",
    "\n",
    "    means = []\n",
    "    medians = []\n",
    "    for _ in range(iters):\n",
    "        xs = [random.gauss(mu, sigma) for _ in range(n)]\n",
    "        xbar = np.mean(xs)\n",
    "        median = np.median(xs)\n",
    "        means.append(xbar)\n",
    "        medians.append(median)\n",
    "\n",
    "    print('Experiment 1')\n",
    "    print('rmse xbar', RMSE(means, mu))\n",
    "    print('rmse median', RMSE(medians, mu))\n",
    "    \n",
    "Estimate1()"
   ]
  },
  {
   "cell_type": "code",
   "execution_count": 4,
   "metadata": {},
   "outputs": [],
   "source": [
    "# Gaussian은 mean과 median이 같습니다. 하지만 estimator로의 성능은 mean이 median보다 좋습니다.\n",
    "# 다만, outlier나 큰 data error가 있는 경우에는 median이 더 좋을 떄도 있기는 합니다."
   ]
  },
  {
   "cell_type": "markdown",
   "metadata": {},
   "source": [
    "## Estimation of Variance"
   ]
  },
  {
   "cell_type": "code",
   "execution_count": 5,
   "metadata": {},
   "outputs": [],
   "source": [
    "# 지난 시간에 배웠듯, sample vairance를 통해 모집단의 bariance를 구할 때 분모가 n이 아니라 n-1이라는 사실을 배웠습니다.\n",
    "# 이를 실제 분포에서 확인해 봅시다. \n",
    "# bias 값을 구하는 Mean Error함수를 만들어봅시다.\n",
    "def MeanError(estimates, actual):\n",
    "    errors = [estimate-actual for estimate in estimates]\n",
    "    return np.mean(errors)"
   ]
  },
  {
   "cell_type": "code",
   "execution_count": 6,
   "metadata": {},
   "outputs": [],
   "source": [
    "# 이제 위 함수를 사용해서 다시 한 번 estimate를 해 봅시다. \n",
    "# 이번에는 평균이 아니라 분산을 estimation 합니다.\n",
    "def Estimate2(n=7, iters=1000):\n",
    "    mu = 0\n",
    "    sigma = 1\n",
    "\n",
    "    estimates1 = []\n",
    "    estimates2 = []\n",
    "    for _ in range(iters):\n",
    "        xs = [random.gauss(mu, sigma) for _ in range(n)]\n",
    "        biased = np.var(xs) # 지난시간에 분모 n은 biased 라는 것을 배웠습니다.\n",
    "        unbiased = np.var(xs, ddof=1) # np.var 의 ddof=k는 분모를 n 대신 n-k를 쓰게 해줍니다.\n",
    "        # ddof 는 delta degree of freedom의 약자입니다. \n",
    "        estimates1.append(biased)\n",
    "        estimates2.append(unbiased)\n",
    "\n",
    "    print('mean error biased', MeanError(estimates1, sigma**2))\n",
    "    print('mean error unbiased', MeanError(estimates2, sigma**2))\n",
    "    "
   ]
  },
  {
   "cell_type": "code",
   "execution_count": 7,
   "metadata": {},
   "outputs": [],
   "source": [
    "# 분모를 n을 쓰는 경우의 bias에 비해서, n-1인 경우의 bias가 훨씬 작은 것을 알 수 있습니다.\n",
    "# 여러번 테스트하며 결과를 비교해보세요. n을 증가시키면 unbiased의 error가 더 작아집니다."
   ]
  },
  {
   "cell_type": "markdown",
   "metadata": {},
   "source": [
    "## Sampling distribution"
   ]
  },
  {
   "cell_type": "code",
   "execution_count": 8,
   "metadata": {},
   "outputs": [],
   "source": [
    "# 아래 function은 n = 9인 sample의 xbar를 여러번 (iters 만큼) 구해서, xbars의 리스트를 리턴해주는 함수입니다.\n",
    "def SimulateSample(mu=90, sigma=7.5, n=9, iters=1000):\n",
    "    xbars = []\n",
    "    for j in range(iters):\n",
    "        xs = np.random.normal(mu, sigma, n)\n",
    "        xbar = np.mean(xs)\n",
    "        xbars.append(xbar)\n",
    "    return xbars"
   ]
  },
  {
   "cell_type": "code",
   "execution_count": 9,
   "metadata": {},
   "outputs": [],
   "source": [
    "# Mean의 Sampling distribution은 이 sampling마다 얼마나 다른 값을 보여주는지를 나타내 줍니다.\n",
    "# 지난주 코드에서 values를 통해서 pdf와 cdf를 만드는 코드를 다시 가져와 봅니다. \n",
    "def values2cdf(values):\n",
    "    sorted_values = sorted(values)\n",
    "    total = len(values)\n",
    "    x = []\n",
    "    y = []\n",
    "    for i, value in enumerate(sorted_values):\n",
    "        x.append(value)\n",
    "        y.append(i/total)\n",
    "    return x, y\n",
    "\n",
    "def values2pdf(values, bins=10):\n",
    "    import numpy as np\n",
    "    tot = len(values)   \n",
    "    hist, bins = np.histogram(values, bins=bins) \n",
    "    xval = bins[:-1] + 0.5 * (bins[1:] - bins[:-1]) # 두 bin 사이의 점을 고릅니다\n",
    "    binsizes = (bins[1:] - bins[:-1]) # binsize가 uniform이 아니더라도 쓸 수 있도록\n",
    "    pdf = hist / (tot * binsizes)\n",
    "    return xval, pdf\n",
    "\n",
    "def getPercentileValueFromCDF(cdf, percentile):\n",
    "    cdf[percentile*len(cdf)//100]\n",
    "    return cdf[percentile*len(cdf)//100]"
   ]
  },
  {
   "cell_type": "code",
   "execution_count": 10,
   "metadata": {},
   "outputs": [
    {
     "data": {
      "image/png": "[encoded data removed]",
      "text/plain": [
       "<Figure size 432x288 with 1 Axes>"
      ]
     },
     "metadata": {
      "needs_background": "light"
     },
     "output_type": "display_data"
    }
   ],
   "source": [
    "# 먼저 CDF를 그려봅니다.\n",
    "# SimulateSample에서 n을 바꾸면서 실험해보세요.\n",
    "# n이 커질수록 폭이 작아지는 것을 확인할 수 있습니다.\n",
    "# xbars = SimulateSample(n = 100)\n",
    "xbars = SimulateSample()\n",
    "x, y = values2cdf(xbars)\n",
    "plt.plot(x, y)\n",
    "plt.xlabel(\"Sample Mean\")\n",
    "plt.ylabel(\"CDF\")\n",
    "plt.show()"
   ]
  },
  {
   "cell_type": "code",
   "execution_count": 11,
   "metadata": {},
   "outputs": [
    {
     "data": {
      "image/png": "[encoded data removed]",
      "text/plain": [
       "<Figure size 432x288 with 1 Axes>"
      ]
     },
     "metadata": {
      "needs_background": "light"
     },
     "output_type": "display_data"
    }
   ],
   "source": [
    "# 이제 PDF를 그려봅니다.\n",
    "# SimulateSample에서 n을 바꾸면서 실험해보세요.\n",
    "# n이 커질수록 폭이 작아지는 것을 확인할 수 있습니다.\n",
    "# xbars = SimulateSample(n = 100)\n",
    "xbars = SimulateSample()\n",
    "x, y = values2pdf(xbars)\n",
    "plt.plot(x, y)\n",
    "plt.xlabel(\"Sample Mean\")\n",
    "plt.ylabel(\"PDF\")\n",
    "plt.show()"
   ]
  },
  {
   "cell_type": "code",
   "execution_count": 12,
   "metadata": {},
   "outputs": [
    {
     "data": {
      "text/plain": [
       "89.9328835563894"
      ]
     },
     "execution_count": 12,
     "metadata": {},
     "output_type": "execute_result"
    }
   ],
   "source": [
    "# sample mean의 mean은 실제 gaussian distribution의 mean값과 비슷한 값이 나오는 것을 알 수 있습니다.\n",
    "np.mean(xbars)"
   ]
  },
  {
   "cell_type": "code",
   "execution_count": 13,
   "metadata": {},
   "outputs": [
    {
     "data": {
      "text/plain": [
       "(81.85679984841012, 97.35731379492417)"
      ]
     },
     "execution_count": 13,
     "metadata": {},
     "output_type": "execute_result"
    }
   ],
   "source": [
    "# sampling value의 n%가 포함되는 x값의 n% confidence interval이라고 합니다.\n",
    "# 90% confidence interval은 percentile기준 5%부터 95%까지겠지요.\n",
    "cdf, xval = values2cdf(xbars)\n",
    "ci_90 = getPercentileValueFromCDF(x, 5), getPercentileValueFromCDF(x, 95)\n",
    "ci_90"
   ]
  },
  {
   "cell_type": "code",
   "execution_count": 14,
   "metadata": {},
   "outputs": [
    {
     "data": {
      "text/plain": [
       "2.6029117775523143"
      ]
     },
     "execution_count": 14,
     "metadata": {},
     "output_type": "execute_result"
    }
   ],
   "source": [
    "# 지난 시간에 배웠듯 Sample Mean의 RMSE를 때때로 Standard Error라고 부릅니다.\n",
    "stderr = RMSE(xbars, 90) # 90은 분포의 실제 평균입니다.\n",
    "stderr"
   ]
  },
  {
   "cell_type": "code",
   "execution_count": 15,
   "metadata": {},
   "outputs": [],
   "source": [
    "# Confidence Interval과 Standard Error를 통해서 random sampling에 대해서 estamator가 얼마나 변동성이 있는지를 정량화 가능합니다."
   ]
  },
  {
   "cell_type": "markdown",
   "metadata": {},
   "source": [
    "## Tailed distributions: Exponential distribution"
   ]
  },
  {
   "cell_type": "code",
   "execution_count": 16,
   "metadata": {},
   "outputs": [
    {
     "data": {
      "image/png": "[encoded data removed]",
      "text/plain": [
       "<Figure size 432x288 with 1 Axes>"
      ]
     },
     "metadata": {
      "needs_background": "light"
     },
     "output_type": "display_data"
    }
   ],
   "source": [
    "# 위의 예제는 mean과 median이 같고, 대칭인 gaussian distribution들에 대해서 수행했습니다.\n",
    "# 한쪽 꼬리가 긴 exponential distribution은 어떻게 다를까요?\n",
    "# 일단 잊으셨을까봐 exponential distribution을 그려보겠습니다. \n",
    "lam = 2\n",
    "x = np.linspace(0, 3, 100) #np.linspace(a, b, n) = a와 b사이에 일정한 간격으로 n개의 요소를 만듭니다\n",
    "y = lam * np.exp(-1 * lam * x)\n",
    "plt.plot(x, y, label=f\"$\\lambda=${lam}\")\n",
    "plt.legend()\n",
    "plt.xlabel(\"x\")\n",
    "plt.ylabel(\"PDF\")\n",
    "plt.show()\n",
    "plt.close()"
   ]
  },
  {
   "cell_type": "code",
   "execution_count": 17,
   "metadata": {},
   "outputs": [
    {
     "name": "stdout",
     "output_type": "stream",
     "text": [
      "rmse L 1.0161237657177975\n",
      "rmse Lm 1.6767133501057006\n",
      "mean error L 0.3214541522334408\n",
      "mean error Lm 0.4794287408770769\n"
     ]
    }
   ],
   "source": [
    "# 지수 분포의 평균은 일반적으로 1/lambba 입니다. 이를 역산해서 estimator를 L = 1 / xbar로 정의할 수 있습니다. (methods of moment)\n",
    "# 이 값은 사실 exponential distribution의 maximum likeliehood estimator입니다. \n",
    "# 하지만, outlier가 있다면 mean값은 변동성이 심한 것을 우리는 미리 알고 있습니다.\n",
    "# 지수 분포의 중위 수는 ln(2)/lambda로 정의할 수 있습니다. 이를 역산하면 Lm = ln(2) / median으로 다른 estimator를 구할 수 있습니다.\n",
    "# 두 가지로 구한 lambda 값 중 어느 것이 더 정확한지 봅시다. \n",
    "\n",
    "def Estimate3(n=7, iters=1000):\n",
    "    lam = 2\n",
    "\n",
    "    means = []\n",
    "    medians = []\n",
    "    for _ in range(iters):\n",
    "        xs = np.random.exponential(1.0/lam, n) # exponential random varianble을 n개 만듭니다.\n",
    "        L = 1 / np.mean(xs)\n",
    "        Lm = np.log(2) / np.median(xs)\n",
    "        means.append(L)\n",
    "        medians.append(Lm)\n",
    "\n",
    "    print('rmse L', RMSE(means, lam))\n",
    "    print('rmse Lm', RMSE(medians, lam))\n",
    "    print('mean error L', MeanError(means, lam))\n",
    "    print('mean error Lm', MeanError(medians, lam))\n",
    "\n",
    "Estimate3()"
   ]
  },
  {
   "cell_type": "code",
   "execution_count": 18,
   "metadata": {},
   "outputs": [],
   "source": [
    "# mean이 median보다 정확한 것을 알 수 있습니다. 하지만 둘 모두 unbiased는 아닌 것 같습니다.\n",
    "# nonlinear function의 parameter를 추정하는 것은 꽤나 어렵습니다.\n",
    "# 괜찬습니다. 이번주부터 시작해서 다음 몇 주간 어떤 식으로 원 분포를 추정하는지에 대한 방법들을 조금 더 배우면 됩니다."
   ]
  },
  {
   "cell_type": "markdown",
   "metadata": {},
   "source": [
    "## Excercises"
   ]
  },
  {
   "cell_type": "markdown",
   "metadata": {},
   "source": [
    "**Exercise:** $\\lambda=2$인 exponential distribution에서 n=10인 sample들을 뽑는다고 생각해 봅시다. 1000 번 정도 sampling을 해 보고, estimator L의 sampling distribution을 그려봅시다. 그리고 standard error를 구해보고, 90% confidence interval도 구해봅시다. \n",
    "\n",
    "n을 바꾸면 어떻게 변할까요? 그리고 n을 바꿔서 standard error의 변화를 plot해봅시다. "
   ]
  },
  {
   "cell_type": "code",
   "execution_count": 19,
   "metadata": {},
   "outputs": [
    {
     "data": {
      "image/png": "[encoded data removed]",
      "text/plain": [
       "<Figure size 432x288 with 1 Axes>"
      ]
     },
     "metadata": {
      "needs_background": "light"
     },
     "output_type": "display_data"
    },
    {
     "data": {
      "text/plain": [
       "(1.2442218806848122, 8.2226984268862)"
      ]
     },
     "execution_count": 19,
     "metadata": {},
     "output_type": "execute_result"
    }
   ],
   "source": [
    "# solution goes here\n",
    "# Estimator L의 sampling distribution을 구해봅시다.\n",
    "def SimulateSample2(lam=2, n=10, iters=1000):\n",
    "    Ls = []\n",
    "    for j in range(iters):\n",
    "        xs = np.random.exponential(1.0/lam, n) # exponential random varianble을 n개 만듭니다.\n",
    "        L = 1 / np.mean(xs)\n",
    "        Ls.append(L)\n",
    "    return Ls\n",
    "\n",
    "xbars = SimulateSample2()\n",
    "x, y = values2pdf(xbars)\n",
    "plt.plot(x, y)\n",
    "plt.xlabel(\"Sample Mean\")\n",
    "plt.ylabel(\"PDF\")\n",
    "plt.show()\n",
    "\n",
    "cdf, xval = values2cdf(xbars)\n",
    "ci_90 = getPercentileValueFromCDF(x, 5), getPercentileValueFromCDF(x, 95)\n",
    "ci_90"
   ]
  },
  {
   "cell_type": "code",
   "execution_count": 20,
   "metadata": {},
   "outputs": [
    {
     "data": {
      "image/png": "[encoded data removed]",
      "text/plain": [
       "<Figure size 432x288 with 1 Axes>"
      ]
     },
     "metadata": {
      "needs_background": "light"
     },
     "output_type": "display_data"
    }
   ],
   "source": [
    "# Solution goes here\n",
    "# n을 바꾸어 가며 RMSE를 구해봅시다. \n",
    "rmses = []\n",
    "ns = range(10, 1000, 10)\n",
    "for i in ns:\n",
    "    rmses.append(RMSE(SimulateSample2(n=i), 2))\n",
    "plt.plot(ns, rmses)\n",
    "plt.xlabel(\"n\")\n",
    "plt.ylabel(\"RMSE\")\n",
    "plt.show()"
   ]
  },
  {
   "cell_type": "markdown",
   "metadata": {},
   "source": [
    "**Exercise:** 몇 주 전 distribution 강의에서 말씀드렸듯, 축구나 하키같은 구기종목의 골 사이 간격은 대략적으로 exponential 분포를 따릅니다. 그리고 어떤 팀의 득점 rate는 각 게임에서 그 팀이 얻어낸 골의 수로 알 수가 있습니다. 이 추정은 사실 시간 간격을 샘플링 하는 것과는 조금 다릅니다. 실제의 골 수에 따라서 lambda를 추정해봅시다. \n",
    "\n",
    "아래의 함수는 골 scoring rate lam을 받아서 몇 골을 넣었는지를 시뮬레이션 해 주는 함수입니다. 이 함수를 이용해서 L의 mean error와 rmse를 구해봅시다. 이 estimator는 biased인가요 unbiased인가요?"
   ]
  },
  {
   "cell_type": "code",
   "execution_count": 21,
   "metadata": {},
   "outputs": [],
   "source": [
    "def SimulateGame(lam):\n",
    "    goals = 0\n",
    "    t = 0\n",
    "    while True:\n",
    "        time_between_goals = random.expovariate(lam)\n",
    "        t += time_between_goals\n",
    "        if t > 1:\n",
    "            break\n",
    "        goals += 1\n",
    "    # estimated goal-scoring rate는 실제로 goal을 넣은 수와 같아집니다.\n",
    "    L = goals\n",
    "    return L"
   ]
  },
  {
   "cell_type": "code",
   "execution_count": 22,
   "metadata": {},
   "outputs": [
    {
     "name": "stdout",
     "output_type": "stream",
     "text": [
      "Experiment 4\n",
      "rmse L 1.4140845094972223\n",
      "mean error L -0.000497\n"
     ]
    },
    {
     "data": {
      "text/plain": [
       "-0.000497"
      ]
     },
     "execution_count": 22,
     "metadata": {},
     "output_type": "execute_result"
    }
   ],
   "source": [
    "# Solution goes here\n",
    "# 먼저 rmse와 mean error를 구하는 함수를 만들어봅시다. \n",
    "def Estimate4(lam=2, m=1000000):\n",
    "\n",
    "    estimates = []\n",
    "    for i in range(m):\n",
    "        L = SimulateGame(lam)\n",
    "        estimates.append(L)\n",
    "\n",
    "    print('Experiment 4')\n",
    "    print('rmse L', RMSE(estimates, lam))\n",
    "    print('mean error L', MeanError(estimates, lam))\n",
    "    return MeanError(estimates, lam)\n",
    "\n",
    "Estimate4()"
   ]
  },
  {
   "cell_type": "code",
   "execution_count": 23,
   "metadata": {},
   "outputs": [
    {
     "name": "stdout",
     "output_type": "stream",
     "text": [
      "Experiment 4\n",
      "rmse L 0.8944271909999159\n",
      "mean error L 0.0\n",
      "Experiment 4\n",
      "rmse L 1.466287829861518\n",
      "mean error L 0.13\n",
      "Experiment 4\n",
      "rmse L 1.4092551223962253\n",
      "mean error L 0.002\n",
      "Experiment 4\n",
      "rmse L 1.402212537385114\n",
      "mean error L -0.0164\n",
      "Experiment 4\n",
      "rmse L 1.4157542159569931\n",
      "mean error L -0.00144\n",
      "Experiment 4\n",
      "rmse L 1.4150618361046983\n",
      "mean error L 0.000592\n"
     ]
    },
    {
     "data": {
      "image/png": "[encoded data removed]",
      "text/plain": [
       "<Figure size 432x288 with 1 Axes>"
      ]
     },
     "metadata": {
      "needs_background": "light"
     },
     "output_type": "display_data"
    }
   ],
   "source": [
    "# Solution goes here \n",
    "# m을 바꾸어 가면서 mean error를 그려봅시다.\n",
    "# Mean error가 0에 점점 가까워지네요.\n",
    "# unbiased로 추정됩니다.\n",
    "rmses = []\n",
    "ns = [10*10**a for a in range(6)]\n",
    "for i in ns:\n",
    "    rmses.append(Estimate4(m=i))\n",
    "plt.plot(ns, rmses)\n",
    "plt.xlabel(\"m\")\n",
    "plt.ylabel(\"Mean error\")\n",
    "plt.show()"
   ]
  },
  {
   "cell_type": "code",
   "execution_count": null,
   "metadata": {},
   "outputs": [],
   "source": []
  }
 ],
 "metadata": {
  "kernelspec": {
   "display_name": "Python 3",
   "language": "python",
   "name": "python3"
  },
  "language_info": {
   "codemirror_mode": {
    "name": "ipython",
    "version": 3
   },
   "file_extension": ".py",
   "mimetype": "text/x-python",
   "name": "python",
   "nbconvert_exporter": "python",
   "pygments_lexer": "ipython3",
   "version": "3.8.3"
  }
 },
 "nbformat": 4,
 "nbformat_minor": 4
}
