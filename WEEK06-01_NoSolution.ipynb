{
 "cells": [
  {
   "cell_type": "markdown",
   "metadata": {},
   "source": [
    "# 6주 2강: Probability Mass Function, Cumulative Distribution Function\n",
    "\n",
    "Allen B. Downey의 http://thinkstats2.com 코드를 참조했습니다.\n",
    "\n",
    "이번 강의는 Probability Mass Function과 Cumulative Distribution이 무엇인지 배워보겠습니다."
   ]
  },
  {
   "cell_type": "markdown",
   "metadata": {},
   "source": [
    "## Probability Mass Function"
   ]
  },
  {
   "cell_type": "code",
   "execution_count": 1,
   "metadata": {},
   "outputs": [],
   "source": [
    "import numpy as np\n",
    "import pandas as pd\n",
    "from matplotlib import pyplot as plt"
   ]
  },
  {
   "cell_type": "markdown",
   "metadata": {},
   "source": [
    "항상 하던 것 처럼 preg 데이터를 불러옵시다"
   ]
  },
  {
   "cell_type": "code",
   "execution_count": 2,
   "metadata": {},
   "outputs": [],
   "source": [
    "preg = pd.read_csv(\"./2002FemPreg.tsv\", sep = \"\\t\")\n",
    "live = preg[preg.outcome == 1]"
   ]
  },
  {
   "cell_type": "markdown",
   "metadata": {},
   "source": [
    "지난주에 했던 것 처럼 탄생 시의 파운드 무게 (birthwgt_lb) 를 hisogram으로 그려봅시다. "
   ]
  },
  {
   "cell_type": "code",
   "execution_count": 3,
   "metadata": {},
   "outputs": [
    {
     "data": {
      "image/png": "[encoded data removed]",
      "text/plain": [
       "<Figure size 432x288 with 1 Axes>"
      ]
     },
     "metadata": {
      "needs_background": "light"
     },
     "output_type": "display_data"
    }
   ],
   "source": [
    "plt.hist(live[\"birthwgt_lb\"], rwidth=0.8, label=\"birthwgt_lb\",\n",
    "                bins=range(int(live[\"birthwgt_lb\"].min()), int(live[\"birthwgt_lb\"].max()+2)))\n",
    "plt.xlabel(\"Birth weight (in pounds)\")\n",
    "plt.ylabel(\"Frequency\")\n",
    "plt.show()\n",
    "plt.close()"
   ]
  },
  {
   "cell_type": "markdown",
   "metadata": {},
   "source": [
    "histogram의 각 성분을 가진 dictionary를 만들어 봅시다"
   ]
  },
  {
   "cell_type": "code",
   "execution_count": 4,
   "metadata": {},
   "outputs": [
    {
     "data": {
      "text/plain": [
       "{0: 8,\n",
       " 1: 40,\n",
       " 2: 53,\n",
       " 3: 98,\n",
       " 4: 229,\n",
       " 5: 697,\n",
       " 6: 2223,\n",
       " 7: 3049,\n",
       " 8: 1889,\n",
       " 9: 623,\n",
       " 10: 132,\n",
       " 11: 26,\n",
       " 12: 10,\n",
       " 13: 3,\n",
       " 14: 3,\n",
       " 15: 1}"
      ]
     },
     "execution_count": 4,
     "metadata": {},
     "output_type": "execute_result"
    }
   ],
   "source": [
    "hist = {key: val for key, val in enumerate(np.bincount(live[\"birthwgt_lb\"].dropna()))}\n",
    "hist"
   ]
  },
  {
   "cell_type": "markdown",
   "metadata": {},
   "source": [
    "pmf를 그리기 위해선 이 각 값을 전체 카운트로 나누어 normalize 해 주어야 합니다."
   ]
  },
  {
   "cell_type": "code",
   "execution_count": 5,
   "metadata": {},
   "outputs": [],
   "source": [
    "n = sum(hist.values())\n",
    "pmf = hist.copy()\n",
    "for x, freq in hist.items():\n",
    "    pmf[x] = freq / n"
   ]
  },
  {
   "cell_type": "markdown",
   "metadata": {},
   "source": [
    "pmf를 구했습니다."
   ]
  },
  {
   "cell_type": "code",
   "execution_count": 6,
   "metadata": {},
   "outputs": [
    {
     "data": {
      "text/plain": [
       "{0: 0.0008806693086745927,\n",
       " 1: 0.004403346543372964,\n",
       " 2: 0.005834434169969176,\n",
       " 3: 0.01078819903126376,\n",
       " 4: 0.025209158960810215,\n",
       " 5: 0.07672831351827389,\n",
       " 6: 0.24471598414795245,\n",
       " 7: 0.3356450902686041,\n",
       " 8: 0.2079480405107882,\n",
       " 9: 0.06858212241303391,\n",
       " 10: 0.01453104359313078,\n",
       " 11: 0.0028621752531924264,\n",
       " 12: 0.001100836635843241,\n",
       " 13: 0.00033025099075297226,\n",
       " 14: 0.00033025099075297226,\n",
       " 15: 0.00011008366358432408}"
      ]
     },
     "execution_count": 6,
     "metadata": {},
     "output_type": "execute_result"
    }
   ],
   "source": [
    "pmf"
   ]
  },
  {
   "cell_type": "markdown",
   "metadata": {},
   "source": [
    "PMF를 그려봅시다"
   ]
  },
  {
   "cell_type": "code",
   "execution_count": 7,
   "metadata": {},
   "outputs": [
    {
     "data": {
      "image/png": "[encoded data removed]",
      "text/plain": [
       "<Figure size 432x288 with 1 Axes>"
      ]
     },
     "metadata": {
      "needs_background": "light"
     },
     "output_type": "display_data"
    }
   ],
   "source": [
    "plt.bar(pmf.keys(), pmf.values())\n",
    "plt.xlabel(\"Value\")\n",
    "plt.ylabel(\"PMF\")\n",
    "plt.show()\n",
    "plt.close()"
   ]
  },
  {
   "cell_type": "markdown",
   "metadata": {},
   "source": [
    "조금 더 단순한 값들의 PMF를 만들어 봅시다"
   ]
  },
  {
   "cell_type": "code",
   "execution_count": 8,
   "metadata": {},
   "outputs": [
    {
     "data": {
      "text/plain": [
       "{1: 0.2, 2: 0.4, 3: 0.2, 5: 0.2}"
      ]
     },
     "execution_count": 8,
     "metadata": {},
     "output_type": "execute_result"
    }
   ],
   "source": [
    "values = [1, 2, 2, 3, 5]\n",
    "pmf = {key: val/len(values) for key, val in enumerate(np.bincount(values)) if val != 0}\n",
    "pmf"
   ]
  },
  {
   "cell_type": "code",
   "execution_count": 9,
   "metadata": {},
   "outputs": [
    {
     "data": {
      "text/plain": [
       "0.4"
      ]
     },
     "execution_count": 9,
     "metadata": {},
     "output_type": "execute_result"
    }
   ],
   "source": [
    "pmf[2]"
   ]
  },
  {
   "cell_type": "markdown",
   "metadata": {},
   "source": [
    "확률 값을 직접 바꿔 봅시다. Dictionary이므로 그냥 바꾸면 됩니다. "
   ]
  },
  {
   "cell_type": "code",
   "execution_count": 10,
   "metadata": {},
   "outputs": [
    {
     "data": {
      "text/plain": [
       "{1: 0.2, 2: 0.6000000000000001, 3: 0.2, 5: 0.2}"
      ]
     },
     "execution_count": 10,
     "metadata": {},
     "output_type": "execute_result"
    }
   ],
   "source": [
    "pmf[2] += 0.2\n",
    "pmf"
   ]
  },
  {
   "cell_type": "markdown",
   "metadata": {},
   "source": [
    "문제는 이렇게 되면 pmf의 조건에 맞지 않습니다. pmf는 확률값의 합이 1이 되어야 하지요.\n",
    "다시 normalize 해 줍시다"
   ]
  },
  {
   "cell_type": "code",
   "execution_count": 11,
   "metadata": {},
   "outputs": [
    {
     "data": {
      "text/plain": [
       "{1: 0.16666666666666669,\n",
       " 2: 0.5000000000000001,\n",
       " 3: 0.16666666666666669,\n",
       " 5: 0.16666666666666669}"
      ]
     },
     "execution_count": 11,
     "metadata": {},
     "output_type": "execute_result"
    }
   ],
   "source": [
    "tot = sum(pmf.values())\n",
    "pmf = {key: val/tot for key, val in pmf.items()}\n",
    "pmf"
   ]
  },
  {
   "cell_type": "markdown",
   "metadata": {},
   "source": [
    "더하기 뿐 아니라 곱하기도 가능합니다. \n",
    "하지만 normalize를 해 주는 것을 잊어서는 안됩니다."
   ]
  },
  {
   "cell_type": "code",
   "execution_count": 12,
   "metadata": {},
   "outputs": [
    {
     "data": {
      "text/plain": [
       "{1: 0.11111111111111109,\n",
       " 2: 0.6666666666666666,\n",
       " 3: 0.11111111111111109,\n",
       " 5: 0.11111111111111109}"
      ]
     },
     "execution_count": 12,
     "metadata": {},
     "output_type": "execute_result"
    }
   ],
   "source": [
    "pmf[2] *= 2\n",
    "tot = sum(pmf.values())\n",
    "pmf = {key: val/tot for key, val in pmf.items()}\n",
    "pmf"
   ]
  },
  {
   "cell_type": "code",
   "execution_count": 13,
   "metadata": {},
   "outputs": [
    {
     "data": {
      "text/plain": [
       "0.9999999999999998"
      ]
     },
     "execution_count": 13,
     "metadata": {},
     "output_type": "execute_result"
    }
   ],
   "source": [
    "sum(pmf.values())"
   ]
  },
  {
   "cell_type": "markdown",
   "metadata": {},
   "source": [
    "live에 대해서 임신 기간에 대한 PMF를 그려봅시다"
   ]
  },
  {
   "cell_type": "code",
   "execution_count": 14,
   "metadata": {},
   "outputs": [],
   "source": [
    "pmf = {key: val/len(live[\"prglngth\"].dropna()) for key, val in enumerate(np.bincount(live[\"prglngth\"].dropna()))}"
   ]
  },
  {
   "cell_type": "markdown",
   "metadata": {},
   "source": [
    "당연히 Bar 형태로 그릴 수 있습니다."
   ]
  },
  {
   "cell_type": "code",
   "execution_count": 15,
   "metadata": {},
   "outputs": [
    {
     "data": {
      "image/png": "[encoded data removed]",
      "text/plain": [
       "<Figure size 432x288 with 1 Axes>"
      ]
     },
     "metadata": {
      "needs_background": "light"
     },
     "output_type": "display_data"
    }
   ],
   "source": [
    "plt.bar(pmf.keys(), pmf.values())\n",
    "plt.xlabel(\"Value\")\n",
    "plt.ylabel(\"PMF\")\n",
    "plt.show()\n",
    "plt.close()"
   ]
  },
  {
   "cell_type": "markdown",
   "metadata": {},
   "source": [
    "step function 형태로 그려봅시다. 이런 형태로 그리는 것은 두 가지의 값을 비교하는데 유용합니다."
   ]
  },
  {
   "cell_type": "code",
   "execution_count": 16,
   "metadata": {},
   "outputs": [
    {
     "data": {
      "image/png": "[encoded data removed]",
      "text/plain": [
       "<Figure size 432x288 with 1 Axes>"
      ]
     },
     "metadata": {
      "needs_background": "light"
     },
     "output_type": "display_data"
    }
   ],
   "source": [
    "plt.step(list(pmf.keys()), list(pmf.values()))\n",
    "plt.xlabel(\"Value\")\n",
    "plt.ylabel(\"PMF\")\n",
    "plt.show()\n",
    "plt.close()"
   ]
  },
  {
   "cell_type": "markdown",
   "metadata": {},
   "source": [
    "첫 아이와 다른 아이의 임신 기간 PMF를 그려서 비교해봅시다. "
   ]
  },
  {
   "cell_type": "code",
   "execution_count": 17,
   "metadata": {},
   "outputs": [],
   "source": [
    "firsts = live[live.birthord == 1]\n",
    "others = live[live.birthord != 1]\n",
    "first_pmf = {key: val/len(firsts[\"prglngth\"].dropna()) \n",
    "             for key, val in enumerate(np.bincount(firsts[\"prglngth\"].dropna()))}\n",
    "others_pmf = {key: val/len(others[\"prglngth\"].dropna()) \n",
    "             for key, val in enumerate(np.bincount(others[\"prglngth\"].dropna()))}"
   ]
  },
  {
   "cell_type": "markdown",
   "metadata": {},
   "source": [
    "step과 bar를 비교해봅시다"
   ]
  },
  {
   "cell_type": "code",
   "execution_count": 18,
   "metadata": {},
   "outputs": [
    {
     "data": {
      "image/png": "[encoded data removed]",
      "text/plain": [
       "<Figure size 432x288 with 1 Axes>"
      ]
     },
     "metadata": {
      "needs_background": "light"
     },
     "output_type": "display_data"
    },
    {
     "data": {
      "image/png": "[encoded data removed]",
      "text/plain": [
       "<Figure size 432x288 with 1 Axes>"
      ]
     },
     "metadata": {
      "needs_background": "light"
     },
     "output_type": "display_data"
    }
   ],
   "source": [
    "plt.step(list(first_pmf.keys()), list(first_pmf.values()), label=\"firsts\")\n",
    "plt.step(list(others_pmf.keys()), list(others_pmf.values()), label=\"others\")\n",
    "plt.xlabel(\"Pregnancy Length\")\n",
    "plt.ylabel(\"PMF\")\n",
    "plt.xlim(26, 45)\n",
    "plt.legend()\n",
    "plt.show()\n",
    "plt.close()\n",
    "\n",
    "plt.bar(list(first_pmf.keys()), list(first_pmf.values()), width=0.5, align=\"edge\", label=\"firsts\")\n",
    "plt.bar(list(others_pmf.keys()), list(others_pmf.values()), width=0.5, align=\"center\", label=\"others\")\n",
    "plt.xlabel(\"Pregnancy Length\")\n",
    "plt.ylabel(\"PMF\")\n",
    "plt.xlim(26, 45)\n",
    "plt.legend()\n",
    "plt.show()\n",
    "plt.close()"
   ]
  },
  {
   "cell_type": "markdown",
   "metadata": {},
   "source": [
    "두 확률이 얼마나 차이나는지 비교하는 코드를 구현해 봅시다."
   ]
  },
  {
   "cell_type": "code",
   "execution_count": 19,
   "metadata": {},
   "outputs": [
    {
     "data": {
      "image/png": "[encoded data removed]",
      "text/plain": [
       "<Figure size 432x288 with 1 Axes>"
      ]
     },
     "metadata": {
      "needs_background": "light"
     },
     "output_type": "display_data"
    }
   ],
   "source": [
    "weeks = range(35, 46)\n",
    "diffs = []\n",
    "for week in weeks:\n",
    "    p1 = first_pmf[week]\n",
    "    p2 = others_pmf[week]\n",
    "    diff = 100 * (p1 - p2)\n",
    "    diffs.append(diff)\n",
    "\n",
    "plt.bar(weeks, diffs)\n",
    "plt.xlabel(\"Pregnancy Length\")\n",
    "plt.ylabel(\"Difference in percent\")\n",
    "plt.show()\n",
    "plt.close()"
   ]
  },
  {
   "cell_type": "markdown",
   "metadata": {},
   "source": [
    "## Cumulative Distribution Function\n",
    "매주 하던대로 live, first, others를 구해봅시다\n"
   ]
  },
  {
   "cell_type": "code",
   "execution_count": 20,
   "metadata": {},
   "outputs": [],
   "source": [
    "live = preg[preg.outcome == 1]\n",
    "firsts = live[live.birthord == 1]\n",
    "others = live[live.birthord != 1]"
   ]
  },
  {
   "cell_type": "markdown",
   "metadata": {},
   "source": [
    "첫 아이와 다른 아이들의 무게에 대해서 분석해 봅시다.\n",
    "\n",
    "1이 아닌 다른 사이즈의 bin을 쓰고 싶으면 np.histogram을 쓰면 됩니다."
   ]
  },
  {
   "cell_type": "code",
   "execution_count": 21,
   "metadata": {},
   "outputs": [
    {
     "name": "stdout",
     "output_type": "stream",
     "text": [
      "Firsts 4413 4363\n",
      "Others 4735 4675\n"
     ]
    }
   ],
   "source": [
    "first_wgt = firsts.totalwgt_lb\n",
    "first_wgt_dropna = first_wgt.dropna()\n",
    "print('Firsts', len(first_wgt), len(first_wgt_dropna))\n",
    "\n",
    "other_wgt = others.totalwgt_lb\n",
    "other_wgt_dropna = other_wgt.dropna()\n",
    "print('Others', len(other_wgt), len(other_wgt_dropna))\n",
    "\n",
    "first_hist, first_bins = np.histogram(first_wgt_dropna, bins=np.arange(0, 16, 0.05))\n",
    "first_pmf = {key: val/len(first_wgt_dropna) \n",
    "             for key, val in zip(first_bins, first_hist)}\n",
    "other_hist, other_bins = np.histogram(other_wgt_dropna, bins=np.arange(0, 16, 0.05))\n",
    "other_pmf = {key: val/len(other_wgt_dropna) \n",
    "             for key, val in zip(other_bins, other_hist)}"
   ]
  },
  {
   "cell_type": "markdown",
   "metadata": {},
   "source": [
    "하던대로 PMF를 그려서 비교해볼 수 있습니다만... 구분하기가 조금 힘듭니다."
   ]
  },
  {
   "cell_type": "code",
   "execution_count": 22,
   "metadata": {},
   "outputs": [
    {
     "data": {
      "image/png": "[encoded data removed]",
      "text/plain": [
       "<Figure size 432x288 with 1 Axes>"
      ]
     },
     "metadata": {
      "needs_background": "light"
     },
     "output_type": "display_data"
    }
   ],
   "source": [
    "plt.step(list(first_pmf.keys()), list(first_pmf.values()), label=\"firsts\")\n",
    "plt.step(list(other_pmf.keys()), list(other_pmf.values()), label=\"others\")\n",
    "plt.xlabel(\"Pregnancy Length\")\n",
    "plt.ylabel(\"PMF\")\n",
    "plt.legend()\n",
    "plt.show()\n",
    "plt.close()"
   ]
  },
  {
   "cell_type": "markdown",
   "metadata": {},
   "source": [
    "PercentileRank라는 함수를 만들어봅시다. PrecentileRank는 정렬된 값들중 이 값이 하위 몇%인지를 리턴해주는 함수입니다. "
   ]
  },
  {
   "cell_type": "code",
   "execution_count": 23,
   "metadata": {},
   "outputs": [
    {
     "data": {
      "text/plain": [
       "80.0"
      ]
     },
     "execution_count": 23,
     "metadata": {},
     "output_type": "execute_result"
    }
   ],
   "source": [
    "def PercentileRank(scores, your_score):\n",
    "    count = 0\n",
    "    for score in scores:\n",
    "        if score <= your_score:\n",
    "            count += 1\n",
    "\n",
    "    percentile_rank = 100.0 * count / len(scores)\n",
    "    return percentile_rank\n",
    "\n",
    "# t라는 score list를 가지고 테스트해 봅시다. \n",
    "t = [55, 66, 77, 88, 99]\n",
    "PercentileRank(t, 88)\n",
    "# 전체의 상위 80% 이므로 80이라는 값이 리턴됩니다."
   ]
  },
  {
   "cell_type": "markdown",
   "metadata": {},
   "source": [
    "Percentile이라는 함수는 반대로 Percentile Rank를 주면 그에 해당하는 값을 리턴해주는 함수입니다."
   ]
  },
  {
   "cell_type": "code",
   "execution_count": 24,
   "metadata": {},
   "outputs": [
    {
     "data": {
      "text/plain": [
       "77"
      ]
     },
     "execution_count": 24,
     "metadata": {},
     "output_type": "execute_result"
    }
   ],
   "source": [
    "def Percentile(scores, percentile_rank):\n",
    "    for score in sorted(scores):\n",
    "        if PercentileRank(scores, score) >= percentile_rank:\n",
    "            return score\n",
    "        \n",
    "# 테스트해봅시다.\n",
    "Percentile(t, 45)"
   ]
  },
  {
   "cell_type": "markdown",
   "metadata": {},
   "source": [
    "사실 위의 함수는 조금 느립니다. 정렬도 해야 하고... 조금 빠르게 만들어 봅시다. "
   ]
  },
  {
   "cell_type": "code",
   "execution_count": 25,
   "metadata": {},
   "outputs": [
    {
     "data": {
      "text/plain": [
       "66"
      ]
     },
     "execution_count": 25,
     "metadata": {},
     "output_type": "execute_result"
    }
   ],
   "source": [
    "def Percentile2(scores, percentile_rank):\n",
    "    scores.sort()\n",
    "    index = percentile_rank * (len(scores)-1) // 100 # // 과 / 의 차이 기억하시죠? 소숫점 유무!\n",
    "    return scores[index]\n",
    "Percentile2(t, 45)\n",
    "\n",
    "# 문제는 두 개의 작동이 약간 다르므로, 답이 다르게 나오는 것입니다 ^^: "
   ]
  },
  {
   "cell_type": "markdown",
   "metadata": {},
   "source": [
    "Cumulative Distribution Function (CDF)는 PercentileRank와 거의 같습니다. 차이는 0부터 100대신 0부터 1까지의 값을 주는 것 뿐입니다."
   ]
  },
  {
   "cell_type": "code",
   "execution_count": 26,
   "metadata": {},
   "outputs": [],
   "source": [
    "def evalCdf(sample, x):\n",
    "    count = 0.0\n",
    "    for value in sorted(sample):\n",
    "        if value <= x:\n",
    "            count += 1\n",
    "    prob = count / len(sample)\n",
    "    return prob\n",
    "\n",
    "def getValCdf(sample, cdf_value):\n",
    "    for score in sorted(sample):\n",
    "        if evalCdf(sample, score) >= cdf_value:\n",
    "            return score\n",
    "\n",
    "def evalCdfCdf(cdf, target_val):\n",
    "    for val, score in sorted(cdf.items()):\n",
    "        if val >= target_val:\n",
    "            return score\n",
    "        \n",
    "def getValCdfCdf(cdf, cdf_value):\n",
    "    for val, score in sorted(cdf.items()):\n",
    "        if score >= cdf_value:\n",
    "            return val"
   ]
  },
  {
   "cell_type": "markdown",
   "metadata": {},
   "source": [
    "위 함수를 통해서 CDF를 구해볼 수 있습니다. "
   ]
  },
  {
   "cell_type": "code",
   "execution_count": 27,
   "metadata": {},
   "outputs": [
    {
     "name": "stdout",
     "output_type": "stream",
     "text": [
      "0.0 0.2 0.6 0.8 0.8 1.0\n"
     ]
    }
   ],
   "source": [
    "t = [1, 2, 2, 3, 5]\n",
    "print(evalCdf(t, 0), evalCdf(t, 1), evalCdf(t, 2), evalCdf(t, 3), evalCdf(t, 4), evalCdf(t, 5))"
   ]
  },
  {
   "cell_type": "markdown",
   "metadata": {},
   "source": [
    "사실 CDF는 이전까지 나오는 확률들의 합과 같습니다. pmf를 cdf로 변환하는 함수를 만들어봅시다."
   ]
  },
  {
   "cell_type": "code",
   "execution_count": 28,
   "metadata": {},
   "outputs": [],
   "source": [
    "def pmf2cdf(pmf_dict):\n",
    "    cdf_dict = {}\n",
    "    now = 0\n",
    "    for k, v in sorted(pmf_dict.items()):\n",
    "        now += v\n",
    "        cdf_dict[k] = now\n",
    "    return cdf_dict"
   ]
  },
  {
   "cell_type": "code",
   "execution_count": 29,
   "metadata": {},
   "outputs": [],
   "source": [
    "live_wgt = live.totalwgt_lb\n",
    "live_wgt_dropna = live_wgt.dropna()\n",
    "live_hist, live_bins = np.histogram(live_wgt_dropna, bins=np.arange(0, 16, 0.05))\n",
    "live_pmf = {key: val/len(live_wgt_dropna) \n",
    "             for key, val in zip(live_bins, live_hist)}\n",
    "live_cdf = pmf2cdf(live_pmf)\n",
    "first_cdf = pmf2cdf(first_pmf)\n",
    "other_cdf = pmf2cdf(other_pmf)"
   ]
  },
  {
   "cell_type": "code",
   "execution_count": 30,
   "metadata": {},
   "outputs": [
    {
     "data": {
      "image/png": "[encoded data removed]",
      "text/plain": [
       "<Figure size 432x288 with 1 Axes>"
      ]
     },
     "metadata": {
      "needs_background": "light"
     },
     "output_type": "display_data"
    }
   ],
   "source": [
    "plt.step(list(other_cdf.keys()), list(other_cdf.values()), label=\"others\")\n",
    "plt.xlabel(\"Pregnancy Length\")\n",
    "plt.ylabel(\"CDF\")\n",
    "plt.legend()\n",
    "plt.show()\n",
    "plt.close()"
   ]
  },
  {
   "cell_type": "markdown",
   "metadata": {},
   "source": [
    "median은 50 percentile, 그리고 0.5 CDF와 같습니다 "
   ]
  },
  {
   "cell_type": "code",
   "execution_count": 31,
   "metadata": {},
   "outputs": [
    {
     "name": "stdout",
     "output_type": "stream",
     "text": [
      "0.7332374419119274\n",
      "0.7332374419119274\n"
     ]
    },
    {
     "data": {
      "text/plain": [
       "7.3500000000000005"
      ]
     },
     "execution_count": 31,
     "metadata": {},
     "output_type": "execute_result"
    }
   ],
   "source": [
    "print(evalCdf(live_wgt_dropna, 8))\n",
    "print(evalCdfCdf(live_cdf, 8))\n",
    "getValCdfCdf(live_cdf, 0.5)"
   ]
  },
  {
   "cell_type": "markdown",
   "metadata": {},
   "source": [
    "두 그림의 차이를 위의 pmf보다 훨씬 명확하게 비교할 수 있습니다. \n",
    "\n",
    "pmf로 잘 안보이는 경우도 CDF로는 잘 보입니다. "
   ]
  },
  {
   "cell_type": "code",
   "execution_count": 32,
   "metadata": {},
   "outputs": [
    {
     "data": {
      "image/png": "[encoded data removed]",
      "text/plain": [
       "<Figure size 432x288 with 1 Axes>"
      ]
     },
     "metadata": {
      "needs_background": "light"
     },
     "output_type": "display_data"
    }
   ],
   "source": [
    "plt.step(list(first_cdf.keys()), list(first_cdf.values()), label=\"firsts\")\n",
    "plt.step(list(other_cdf.keys()), list(other_cdf.values()), label=\"others\")\n",
    "plt.xlabel(\"Weights (poinds)\")\n",
    "plt.ylabel(\"CDF\")\n",
    "plt.legend()\n",
    "plt.show()\n",
    "plt.close()"
   ]
  },
  {
   "cell_type": "markdown",
   "metadata": {},
   "source": [
    "Interquartile range 는 25th percentile과 75th percentile 사이의 범위입니다."
   ]
  },
  {
   "cell_type": "code",
   "execution_count": 33,
   "metadata": {},
   "outputs": [
    {
     "data": {
      "text/plain": [
       "(6.5, 8.1)"
      ]
     },
     "execution_count": 33,
     "metadata": {},
     "output_type": "execute_result"
    }
   ],
   "source": [
    "iqr = (getValCdfCdf(live_cdf, 0.25), getValCdfCdf(live_cdf, 0.75))\n",
    "iqr"
   ]
  },
  {
   "cell_type": "markdown",
   "metadata": {},
   "source": [
    "전체의 일부를 sample한 subset을 만들고, 이 set이 기존과 같은지 확인합시다"
   ]
  },
  {
   "cell_type": "code",
   "execution_count": 34,
   "metadata": {},
   "outputs": [
    {
     "data": {
      "image/png": "[encoded data removed]",
      "text/plain": [
       "<Figure size 432x288 with 1 Axes>"
      ]
     },
     "metadata": {
      "needs_background": "light"
     },
     "output_type": "display_data"
    }
   ],
   "source": [
    "sample = np.random.choice(live_wgt_dropna, 20, replace=True) # SAMPLE SIZE를 바꾸어 가면서 확인해 봅시다\n",
    "sample_hist, sample_bins = np.histogram(sample, bins=np.arange(0, 16, 0.05))\n",
    "sample_pmf = {key: val/len(sample) \n",
    "             for key, val in zip(sample_bins, sample_hist)}\n",
    "sample_cdf = pmf2cdf(sample_pmf)\n",
    "\n",
    "plt.step(list(live_cdf.keys()), list(live_cdf.values()), label=\"lives\")\n",
    "plt.step(list(sample_cdf.keys()), list(sample_cdf.values()), label=\"samples\")\n",
    "plt.xlabel(\"Weights (poinds)\")\n",
    "plt.ylabel(\"CDF\")\n",
    "plt.legend()\n",
    "plt.show()\n",
    "plt.close()"
   ]
  },
  {
   "cell_type": "markdown",
   "metadata": {},
   "source": [
    "## Pandas Indexing"
   ]
  },
  {
   "cell_type": "markdown",
   "metadata": {},
   "source": [
    "Pandas의 index에 관해서 공부해봅시다."
   ]
  },
  {
   "cell_type": "code",
   "execution_count": 35,
   "metadata": {},
   "outputs": [
    {
     "name": "stdout",
     "output_type": "stream",
     "text": [
      "(4, 2)\n",
      "[[ 1.377287   -0.09533763]\n",
      " [ 1.07733851 -0.65191859]\n",
      " [ 1.02715394 -0.78302608]\n",
      " [ 0.07490247 -1.97440667]]\n"
     ]
    },
    {
     "data": {
      "text/html": [
       "<div>\n",
       "<style scoped>\n",
       "    .dataframe tbody tr th:only-of-type {\n",
       "        vertical-align: middle;\n",
       "    }\n",
       "\n",
       "    .dataframe tbody tr th {\n",
       "        vertical-align: top;\n",
       "    }\n",
       "\n",
       "    .dataframe thead th {\n",
       "        text-align: right;\n",
       "    }\n",
       "</style>\n",
       "<table border=\"1\" class=\"dataframe\">\n",
       "  <thead>\n",
       "    <tr style=\"text-align: right;\">\n",
       "      <th></th>\n",
       "      <th>0</th>\n",
       "      <th>1</th>\n",
       "    </tr>\n",
       "  </thead>\n",
       "  <tbody>\n",
       "    <tr>\n",
       "      <th>0</th>\n",
       "      <td>1.377287</td>\n",
       "      <td>-0.095338</td>\n",
       "    </tr>\n",
       "    <tr>\n",
       "      <th>1</th>\n",
       "      <td>1.077339</td>\n",
       "      <td>-0.651919</td>\n",
       "    </tr>\n",
       "    <tr>\n",
       "      <th>2</th>\n",
       "      <td>1.027154</td>\n",
       "      <td>-0.783026</td>\n",
       "    </tr>\n",
       "    <tr>\n",
       "      <th>3</th>\n",
       "      <td>0.074902</td>\n",
       "      <td>-1.974407</td>\n",
       "    </tr>\n",
       "  </tbody>\n",
       "</table>\n",
       "</div>"
      ],
      "text/plain": [
       "          0         1\n",
       "0  1.377287 -0.095338\n",
       "1  1.077339 -0.651919\n",
       "2  1.027154 -0.783026\n",
       "3  0.074902 -1.974407"
      ]
     },
     "execution_count": 35,
     "metadata": {},
     "output_type": "execute_result"
    }
   ],
   "source": [
    "array = np.random.randn(4, 2) # numpy 2d array가 리턴됩니다.\n",
    "print(array.shape)\n",
    "print(array)\n",
    "df = pd.DataFrame(array)\n",
    "df"
   ]
  },
  {
   "cell_type": "markdown",
   "metadata": {},
   "source": [
    "column 이름은 columns를 통해 바꿀 수 있습니다"
   ]
  },
  {
   "cell_type": "code",
   "execution_count": 36,
   "metadata": {},
   "outputs": [
    {
     "data": {
      "text/html": [
       "<div>\n",
       "<style scoped>\n",
       "    .dataframe tbody tr th:only-of-type {\n",
       "        vertical-align: middle;\n",
       "    }\n",
       "\n",
       "    .dataframe tbody tr th {\n",
       "        vertical-align: top;\n",
       "    }\n",
       "\n",
       "    .dataframe thead th {\n",
       "        text-align: right;\n",
       "    }\n",
       "</style>\n",
       "<table border=\"1\" class=\"dataframe\">\n",
       "  <thead>\n",
       "    <tr style=\"text-align: right;\">\n",
       "      <th></th>\n",
       "      <th>A</th>\n",
       "      <th>B</th>\n",
       "    </tr>\n",
       "  </thead>\n",
       "  <tbody>\n",
       "    <tr>\n",
       "      <th>0</th>\n",
       "      <td>1.377287</td>\n",
       "      <td>-0.095338</td>\n",
       "    </tr>\n",
       "    <tr>\n",
       "      <th>1</th>\n",
       "      <td>1.077339</td>\n",
       "      <td>-0.651919</td>\n",
       "    </tr>\n",
       "    <tr>\n",
       "      <th>2</th>\n",
       "      <td>1.027154</td>\n",
       "      <td>-0.783026</td>\n",
       "    </tr>\n",
       "    <tr>\n",
       "      <th>3</th>\n",
       "      <td>0.074902</td>\n",
       "      <td>-1.974407</td>\n",
       "    </tr>\n",
       "  </tbody>\n",
       "</table>\n",
       "</div>"
      ],
      "text/plain": [
       "          A         B\n",
       "0  1.377287 -0.095338\n",
       "1  1.077339 -0.651919\n",
       "2  1.027154 -0.783026\n",
       "3  0.074902 -1.974407"
      ]
     },
     "execution_count": 36,
     "metadata": {},
     "output_type": "execute_result"
    }
   ],
   "source": [
    "columns = ['A', 'B']\n",
    "df = pd.DataFrame(array, columns=columns)\n",
    "df"
   ]
  },
  {
   "cell_type": "markdown",
   "metadata": {},
   "source": [
    "index는 index로 바꿀 수 있습니다"
   ]
  },
  {
   "cell_type": "code",
   "execution_count": 37,
   "metadata": {},
   "outputs": [
    {
     "data": {
      "text/html": [
       "<div>\n",
       "<style scoped>\n",
       "    .dataframe tbody tr th:only-of-type {\n",
       "        vertical-align: middle;\n",
       "    }\n",
       "\n",
       "    .dataframe tbody tr th {\n",
       "        vertical-align: top;\n",
       "    }\n",
       "\n",
       "    .dataframe thead th {\n",
       "        text-align: right;\n",
       "    }\n",
       "</style>\n",
       "<table border=\"1\" class=\"dataframe\">\n",
       "  <thead>\n",
       "    <tr style=\"text-align: right;\">\n",
       "      <th></th>\n",
       "      <th>A</th>\n",
       "      <th>B</th>\n",
       "    </tr>\n",
       "  </thead>\n",
       "  <tbody>\n",
       "    <tr>\n",
       "      <th>a</th>\n",
       "      <td>1.377287</td>\n",
       "      <td>-0.095338</td>\n",
       "    </tr>\n",
       "    <tr>\n",
       "      <th>b</th>\n",
       "      <td>1.077339</td>\n",
       "      <td>-0.651919</td>\n",
       "    </tr>\n",
       "    <tr>\n",
       "      <th>c</th>\n",
       "      <td>1.027154</td>\n",
       "      <td>-0.783026</td>\n",
       "    </tr>\n",
       "    <tr>\n",
       "      <th>d</th>\n",
       "      <td>0.074902</td>\n",
       "      <td>-1.974407</td>\n",
       "    </tr>\n",
       "  </tbody>\n",
       "</table>\n",
       "</div>"
      ],
      "text/plain": [
       "          A         B\n",
       "a  1.377287 -0.095338\n",
       "b  1.077339 -0.651919\n",
       "c  1.027154 -0.783026\n",
       "d  0.074902 -1.974407"
      ]
     },
     "execution_count": 37,
     "metadata": {},
     "output_type": "execute_result"
    }
   ],
   "source": [
    "index = ['a', 'b', 'c', 'd']\n",
    "df = pd.DataFrame(array, columns=columns, index=index)\n",
    "df"
   ]
  },
  {
   "cell_type": "markdown",
   "metadata": {},
   "source": [
    "일반적으로 dictionary 형태로 쓰게 되면 column 고르게 됩니다."
   ]
  },
  {
   "cell_type": "code",
   "execution_count": 38,
   "metadata": {},
   "outputs": [
    {
     "data": {
      "text/plain": [
       "a    1.377287\n",
       "b    1.077339\n",
       "c    1.027154\n",
       "d    0.074902\n",
       "Name: A, dtype: float64"
      ]
     },
     "execution_count": 38,
     "metadata": {},
     "output_type": "execute_result"
    }
   ],
   "source": [
    "df['A']"
   ]
  },
  {
   "cell_type": "markdown",
   "metadata": {},
   "source": [
    "row를 고르고 싶다면 ``loc``을 사용하면 됩니다"
   ]
  },
  {
   "cell_type": "code",
   "execution_count": 39,
   "metadata": {},
   "outputs": [
    {
     "data": {
      "text/plain": [
       "A    1.377287\n",
       "B   -0.095338\n",
       "Name: a, dtype: float64"
      ]
     },
     "execution_count": 39,
     "metadata": {},
     "output_type": "execute_result"
    }
   ],
   "source": [
    "df.loc['a']"
   ]
  },
  {
   "cell_type": "markdown",
   "metadata": {},
   "source": [
    "row label은 모르는데 x번째 순서의 row를 고르고 싶다면 ``iloc``을 사용하면 됩니다"
   ]
  },
  {
   "cell_type": "code",
   "execution_count": 40,
   "metadata": {},
   "outputs": [
    {
     "data": {
      "text/plain": [
       "A    1.377287\n",
       "B   -0.095338\n",
       "Name: a, dtype: float64"
      ]
     },
     "execution_count": 40,
     "metadata": {},
     "output_type": "execute_result"
    }
   ],
   "source": [
    "df.iloc[0]"
   ]
  },
  {
   "cell_type": "markdown",
   "metadata": {},
   "source": [
    "``loc``은 index의 리스트를 인자로 받을 수 있습니다. 여러 row를 고르고 싶다면 이렇게 하시면 됩니다"
   ]
  },
  {
   "cell_type": "code",
   "execution_count": 41,
   "metadata": {},
   "outputs": [
    {
     "data": {
      "text/html": [
       "<div>\n",
       "<style scoped>\n",
       "    .dataframe tbody tr th:only-of-type {\n",
       "        vertical-align: middle;\n",
       "    }\n",
       "\n",
       "    .dataframe tbody tr th {\n",
       "        vertical-align: top;\n",
       "    }\n",
       "\n",
       "    .dataframe thead th {\n",
       "        text-align: right;\n",
       "    }\n",
       "</style>\n",
       "<table border=\"1\" class=\"dataframe\">\n",
       "  <thead>\n",
       "    <tr style=\"text-align: right;\">\n",
       "      <th></th>\n",
       "      <th>A</th>\n",
       "      <th>B</th>\n",
       "    </tr>\n",
       "  </thead>\n",
       "  <tbody>\n",
       "    <tr>\n",
       "      <th>a</th>\n",
       "      <td>1.377287</td>\n",
       "      <td>-0.095338</td>\n",
       "    </tr>\n",
       "    <tr>\n",
       "      <th>c</th>\n",
       "      <td>1.027154</td>\n",
       "      <td>-0.783026</td>\n",
       "    </tr>\n",
       "  </tbody>\n",
       "</table>\n",
       "</div>"
      ],
      "text/plain": [
       "          A         B\n",
       "a  1.377287 -0.095338\n",
       "c  1.027154 -0.783026"
      ]
     },
     "execution_count": 41,
     "metadata": {},
     "output_type": "execute_result"
    }
   ],
   "source": [
    "indices = ['a', 'c']\n",
    "df.loc[indices]"
   ]
  },
  {
   "cell_type": "markdown",
   "metadata": {},
   "source": [
    "혹은 ``[:]``을 통해서 slice할 수 있습니다. "
   ]
  },
  {
   "cell_type": "code",
   "execution_count": 42,
   "metadata": {},
   "outputs": [
    {
     "data": {
      "text/html": [
       "<div>\n",
       "<style scoped>\n",
       "    .dataframe tbody tr th:only-of-type {\n",
       "        vertical-align: middle;\n",
       "    }\n",
       "\n",
       "    .dataframe tbody tr th {\n",
       "        vertical-align: top;\n",
       "    }\n",
       "\n",
       "    .dataframe thead th {\n",
       "        text-align: right;\n",
       "    }\n",
       "</style>\n",
       "<table border=\"1\" class=\"dataframe\">\n",
       "  <thead>\n",
       "    <tr style=\"text-align: right;\">\n",
       "      <th></th>\n",
       "      <th>A</th>\n",
       "      <th>B</th>\n",
       "    </tr>\n",
       "  </thead>\n",
       "  <tbody>\n",
       "    <tr>\n",
       "      <th>a</th>\n",
       "      <td>1.377287</td>\n",
       "      <td>-0.095338</td>\n",
       "    </tr>\n",
       "    <tr>\n",
       "      <th>b</th>\n",
       "      <td>1.077339</td>\n",
       "      <td>-0.651919</td>\n",
       "    </tr>\n",
       "    <tr>\n",
       "      <th>c</th>\n",
       "      <td>1.027154</td>\n",
       "      <td>-0.783026</td>\n",
       "    </tr>\n",
       "  </tbody>\n",
       "</table>\n",
       "</div>"
      ],
      "text/plain": [
       "          A         B\n",
       "a  1.377287 -0.095338\n",
       "b  1.077339 -0.651919\n",
       "c  1.027154 -0.783026"
      ]
     },
     "execution_count": 42,
     "metadata": {},
     "output_type": "execute_result"
    }
   ],
   "source": [
    "df['a':'c']"
   ]
  },
  {
   "cell_type": "code",
   "execution_count": 43,
   "metadata": {},
   "outputs": [
    {
     "data": {
      "text/html": [
       "<div>\n",
       "<style scoped>\n",
       "    .dataframe tbody tr th:only-of-type {\n",
       "        vertical-align: middle;\n",
       "    }\n",
       "\n",
       "    .dataframe tbody tr th {\n",
       "        vertical-align: top;\n",
       "    }\n",
       "\n",
       "    .dataframe thead th {\n",
       "        text-align: right;\n",
       "    }\n",
       "</style>\n",
       "<table border=\"1\" class=\"dataframe\">\n",
       "  <thead>\n",
       "    <tr style=\"text-align: right;\">\n",
       "      <th></th>\n",
       "      <th>A</th>\n",
       "      <th>B</th>\n",
       "    </tr>\n",
       "  </thead>\n",
       "  <tbody>\n",
       "    <tr>\n",
       "      <th>a</th>\n",
       "      <td>1.377287</td>\n",
       "      <td>-0.095338</td>\n",
       "    </tr>\n",
       "    <tr>\n",
       "      <th>b</th>\n",
       "      <td>1.077339</td>\n",
       "      <td>-0.651919</td>\n",
       "    </tr>\n",
       "  </tbody>\n",
       "</table>\n",
       "</div>"
      ],
      "text/plain": [
       "          A         B\n",
       "a  1.377287 -0.095338\n",
       "b  1.077339 -0.651919"
      ]
     },
     "execution_count": 43,
     "metadata": {},
     "output_type": "execute_result"
    }
   ],
   "source": [
    "df[0:2]"
   ]
  },
  {
   "cell_type": "markdown",
   "metadata": {},
   "source": [
    "위에서 integer로 ``[a:b]`` 를 하면 b가 포함이 되지 않고, index value로 할 경우 b가 포함이 되는 것에 유의하세요"
   ]
  },
  {
   "cell_type": "markdown",
   "metadata": {},
   "source": [
    "## Exercises"
   ]
  },
  {
   "cell_type": "markdown",
   "metadata": {},
   "source": [
    "**Exercise:** 첫 아이가 늦게 태어나는지에 대한 질문을 다시 한 번 해 봅시다. 지난 시간 까지는 어떤 산모에게 태어났든 평균적인 출산까지의 기간만을 계산했습니다. 하지만 개별 산모마다 기본적인 임신 기간의 차이가 있을 수도 있다는 사실을 무시했죠. 즉, 같은 산모가 두 아이를 낳은 경우에 첫 아기가 더 늦게 태어나는 경향이 있을 수도 있다는 것입니다. \n",
    "\n",
    "이 문제를 풀기 위해서, 2명 이상의 아이를 낳은 답변자들을 고려해 봅시다. 각 산모마다 첫 아이와 다른 아이의 임신 기간을 비교하고, 모든 산모의 평균을 내 봅시다. 이 경우에는 기존과 다른 결과가 나오나요? 그래프를 그려서 이해해봅시다\n",
    "\n",
    "힌트: 3주차의 \"preg_map\"을 만드는 방법을 기억해보세요."
   ]
  },
  {
   "cell_type": "code",
   "execution_count": 44,
   "metadata": {},
   "outputs": [],
   "source": [
    "live = preg[preg.outcome == 1]\n",
    "live = live[live.prglngth >= 37]"
   ]
  },
  {
   "cell_type": "code",
   "execution_count": 45,
   "metadata": {},
   "outputs": [
    {
     "name": "stdout",
     "output_type": "stream",
     "text": [
      "Mean difference between pairs 0.18850574712643678\n"
     ]
    },
    {
     "data": {
      "image/png": "[encoded data removed]",
      "text/plain": [
       "<Figure size 432x288 with 1 Axes>"
      ]
     },
     "metadata": {
      "needs_background": "light"
     },
     "output_type": "display_data"
    }
   ],
   "source": [
    "# Solution goes here\n",
    "from collections import defaultdict\n",
    "\n",
    "preg_map = defaultdict(list)\n",
    "for index, caseid in live.caseid.iteritems():\n",
    "    preg_map[caseid].append(index)\n",
    "    # index는 전체에서의 임신 순서입니다.\n",
    "\n",
    "diffs = []\n",
    "for caseid, indices in preg_map.items():\n",
    "    lengths = live.loc[indices].prglngth.values\n",
    "    if len(lengths) >= 2:\n",
    "        case_diffs = [lengths[0] - x for x in lengths[1:]]\n",
    "        diffs.extend(case_diffs)\n",
    "\n",
    "mean = np.mean(diffs)\n",
    "print('Mean difference between pairs', mean)\n",
    "\n",
    "live_hist, live_bins = np.histogram(diffs, bins=range(min(diffs), max(diffs)+2))\n",
    "live_pmf = {key: val/len(diffs) for key, val in zip(live_bins, live_hist)}\n",
    "\n",
    "plt.bar(list(live_pmf.keys()), list(live_pmf.values()))\n",
    "plt.xlabel(\"Pregnancy Length Difference\")\n",
    "plt.ylabel(\"PMF\")\n",
    "plt.show()\n",
    "plt.close()"
   ]
  },
  {
   "cell_type": "markdown",
   "metadata": {},
   "source": [
    "**Exercise:** `numpy.random.random` 으로 만든 random number는 0과 1사이에 균일하게 분포해야 합니다. 즉, 모든 구간에서 균일한 확률로 존재해야 합니다.\n",
    "\n",
    "`numpy.random.random`으로 1000개의 숫자를 만들어 봅시다. \n",
    "\n",
    "1) PMF를 그려봅시다. 무슨 문제가 있을까요?\n",
    "\n",
    "2) CDF를 그려봅시다. 이 분포는 균일한가요?\n",
    "\n",
    "3) random number의 생성 숫자를 바꾸어 가면서 테스트 해 봅시다. bin의 숫자도 바꾸어 봅시다. bin size, random number의 수, 보이는 분포의 균일성 관계를 생각해 봅시다"
   ]
  },
  {
   "cell_type": "code",
   "execution_count": 46,
   "metadata": {},
   "outputs": [],
   "source": [
    "randnums = np.random.random(1000)"
   ]
  },
  {
   "cell_type": "code",
   "execution_count": 47,
   "metadata": {},
   "outputs": [
    {
     "data": {
      "image/png": "[encoded data removed]",
      "text/plain": [
       "<Figure size 432x288 with 1 Axes>"
      ]
     },
     "metadata": {
      "needs_background": "light"
     },
     "output_type": "display_data"
    }
   ],
   "source": [
    "# Solution goes here\n",
    "hist, bins = np.histogram(randnums, bins=100)\n",
    "pmf = {key: val/len(randnums) for key, val in zip(bins, hist)}\n",
    "plt.step(list(pmf.keys()), list(pmf.values()))\n",
    "plt.xlabel(\"Random Number\")\n",
    "plt.ylabel(\"PMF\")\n",
    "plt.show()\n",
    "plt.close()"
   ]
  },
  {
   "cell_type": "code",
   "execution_count": 48,
   "metadata": {},
   "outputs": [
    {
     "data": {
      "image/png": "[encoded data removed]",
      "text/plain": [
       "<Figure size 432x288 with 1 Axes>"
      ]
     },
     "metadata": {
      "needs_background": "light"
     },
     "output_type": "display_data"
    }
   ],
   "source": [
    "# Solution goes here\n",
    "cdf = pmf2cdf(pmf)\n",
    "hist, bins = np.histogram(randnums, bins=100)\n",
    "plt.step(list(cdf.keys()), list(cdf.values()))\n",
    "plt.xlabel(\"Random Number\")\n",
    "plt.ylabel(\"CDF\")\n",
    "plt.show()\n",
    "plt.close()"
   ]
  },
  {
   "cell_type": "code",
   "execution_count": null,
   "metadata": {},
   "outputs": [],
   "source": []
  }
 ],
 "metadata": {
  "kernelspec": {
   "display_name": "Python 3",
   "language": "python",
   "name": "python3"
  },
  "language_info": {
   "codemirror_mode": {
    "name": "ipython",
    "version": 3
   },
   "file_extension": ".py",
   "mimetype": "text/x-python",
   "name": "python",
   "nbconvert_exporter": "python",
   "pygments_lexer": "ipython3",
   "version": "3.8.3"
  }
 },
 "nbformat": 4,
 "nbformat_minor": 4
}
