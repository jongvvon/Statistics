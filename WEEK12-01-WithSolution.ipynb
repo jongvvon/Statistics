{
 "cells": [
  {
   "cell_type": "markdown",
   "metadata": {},
   "source": [
    "# 12주 2강: Hypothesis Testings\n",
    "\n",
    "Allen B. Downey의 http://thinkstats2.com 코드를 참조했습니다.\n",
    "\n",
    "이번 강의는 가설의 검정에 대해서 배우겠습니다."
   ]
  },
  {
   "cell_type": "code",
   "execution_count": 1,
   "metadata": {},
   "outputs": [],
   "source": [
    "import numpy as np\n",
    "import random\n",
    "from matplotlib import pyplot as plt\n",
    "import scipy.stats\n",
    "import pandas as pd"
   ]
  },
  {
   "cell_type": "markdown",
   "metadata": {},
   "source": [
    "## Hypothesis testing\n",
    "p-value를 statistic이 아닌 직접 구하는 것 부터 해 봅시다."
   ]
  },
  {
   "cell_type": "code",
   "execution_count": 2,
   "metadata": {},
   "outputs": [],
   "source": [
    "class HypothesisTest(object):\n",
    "    # 공통적으로 많이 사용할 Method들에 대한 HyothesisTest class를 만들어둡니다\n",
    "\n",
    "    def __init__(self, data):\n",
    "        self.data = data\n",
    "        self.MakeModel()\n",
    "        self.actual = self.TestStatistic(data)\n",
    "        self.test_stats = None\n",
    "        self.test_cdf = None        \n",
    "\n",
    "    def PValue(self, iters=1000):\n",
    "        # p-value는 가설에 대해서 현재 관측한 data나 worse data가 나올 확률입니다.\n",
    "        # simulation을 통해서 p-value를 구해봅시다.\n",
    "        self.test_stats = [self.TestStatistic(self.RunModel()) \n",
    "                           for _ in range(iters)]\n",
    "        count = sum(1 for x in self.test_stats if x >= self.actual)\n",
    "        return count / iters\n",
    "\n",
    "    def TestStatistic(self, data):\n",
    "        raise UnimplementedMethodException()\n",
    "\n",
    "    def MakeModel(self):\n",
    "        pass\n",
    "\n",
    "    def RunModel(self):\n",
    "        raise UnimplementedMethodException()\n",
    "        \n",
    "    def MaxTestStat(self):\n",
    "        return max(self.test_stats)"
   ]
  },
  {
   "cell_type": "code",
   "execution_count": 3,
   "metadata": {},
   "outputs": [],
   "source": [
    "class CoinTest(HypothesisTest): \n",
    "    # Hypothesis Test class를 상속받\n",
    "    # python의 상속에 대해 잊으셧다면 2주차 강의를 다시 참조해주세요\n",
    "    # 2주차 예제코드를 보셔도 됩니다 (WEEK02-01_PythonBasics.ipynb)\n",
    "\n",
    "    def TestStatistic(self, data):\n",
    "        heads, tails = data\n",
    "        test_stat = abs(heads - tails)\n",
    "        return test_stat\n",
    "\n",
    "    def RunModel(self):\n",
    "        # 이 Model은 unbaised coin이므로 전체 샘플의 1/2씩 나오는 경우입니다.\n",
    "        from collections import Counter\n",
    "        heads, tails = self.data\n",
    "        n = heads + tails\n",
    "        sample = [random.choice('HT') for _ in range(n)]\n",
    "        hist = Counter(sample)\n",
    "        # Counter로 histogram을 만들어줍시다\n",
    "        data = hist['H'], hist['T']\n",
    "        return data"
   ]
  },
  {
   "cell_type": "code",
   "execution_count": 4,
   "metadata": {},
   "outputs": [
    {
     "name": "stdout",
     "output_type": "stream",
     "text": [
      "0.062\n"
     ]
    }
   ],
   "source": [
    "ct = CoinTest((140, 110))\n",
    "pvalue = ct.PValue(iters=1000)\n",
    "print(pvalue)\n",
    "# p-value는 0.07 내외가 나옵니다. \n",
    "# 즉, 확률이 같다는 가정 하에서는 나오기 힘든 sample이라는 것이지요."
   ]
  },
  {
   "cell_type": "code",
   "execution_count": 5,
   "metadata": {},
   "outputs": [
    {
     "data": {
      "text/plain": [
       "Power_divergenceResult(statistic=3.6, pvalue=0.05777957112359715)"
      ]
     },
     "execution_count": 5,
     "metadata": {},
     "output_type": "execute_result"
    }
   ],
   "source": [
    "# chi-squared 검정을 해 보겠습니다.\n",
    "# expectation을 넣지 않으면 모두 같은 확률로 가정합니다.\n",
    "#coin_expectation = [125, 125]\n",
    "coin_observation = [140, 110]\n",
    "scipy.stats.chisquare(coin_observation)\n",
    "#scipy.stats.chisquare(coin_observation), coin_expectation)"
   ]
  },
  {
   "cell_type": "markdown",
   "metadata": {},
   "source": [
    "## Permutation test\n",
    "두 그룹의 mean이 같은지 다른지 평가하는 방법 중 하나는 permuation test입니다. 두 그룹의 평균이 같다고 가정하고, 두 그룹의 데이터를 서로 섞어도 같은 결과가 나오는지 보는 방법이지요!"
   ]
  },
  {
   "cell_type": "code",
   "execution_count": 6,
   "metadata": {},
   "outputs": [],
   "source": [
    "class DiffMeansPermute(HypothesisTest):\n",
    "    def TestStatistic(self, data):\n",
    "        group1, group2 = data\n",
    "        test_stat = abs(group1.mean() - group2.mean())\n",
    "        return test_stat\n",
    "\n",
    "    def MakeModel(self):\n",
    "        group1, group2 = self.data\n",
    "        self.n, self.m = len(group1), len(group2)\n",
    "        self.pool = np.hstack((group1, group2))\n",
    "\n",
    "    def RunModel(self):\n",
    "        np.random.shuffle(self.pool)\n",
    "        data = self.pool[:self.n], self.pool[self.n:]\n",
    "        return data\n",
    "\n",
    "    def values2cdf(self, values):\n",
    "        sorted_values = sorted(values)\n",
    "        total = len(values)\n",
    "        x = []\n",
    "        y = []\n",
    "        for i, value in enumerate(sorted_values):\n",
    "            x.append(value)\n",
    "            y.append(i/total)\n",
    "        return x, y\n",
    "    \n",
    "    def PlotCdf(self, label=None):\n",
    "        self.test_cdf = self.values2cdf(self.test_stats)\n",
    "        def VertLine(x):\n",
    "            plt.plot([x, x], [0, 1], color='0.8')\n",
    "        VertLine(self.actual)\n",
    "        plt.plot(self.test_cdf[0], self.test_cdf[1])"
   ]
  },
  {
   "cell_type": "code",
   "execution_count": 7,
   "metadata": {},
   "outputs": [],
   "source": [
    "# 다시 한 번 첫번째 아이의 임신기간 문제로 돌아가 봅시다. \n",
    "# Effect size로 평가해 본 적이 있지만, 실제로 두 집단의 평균이 같을까요?\n",
    "preg = pd.read_csv(\"./2002FemPreg.tsv\", sep = \"\\t\")\n",
    "live = preg[preg.outcome == 1]\n",
    "firsts = live[live.birthord == 1]\n",
    "others = live[live.birthord != 1]\n",
    "data = firsts.prglngth.values, others.prglngth.values"
   ]
  },
  {
   "cell_type": "code",
   "execution_count": 8,
   "metadata": {},
   "outputs": [
    {
     "name": "stdout",
     "output_type": "stream",
     "text": [
      "0.159\n"
     ]
    },
    {
     "data": {
      "image/png": "[encoded data removed]",
      "text/plain": [
       "<Figure size 432x288 with 1 Axes>"
      ]
     },
     "metadata": {
      "needs_background": "light"
     },
     "output_type": "display_data"
    }
   ],
   "source": [
    "ht = DiffMeansPermute(data)\n",
    "pvalue = ht.PValue()\n",
    "print(pvalue)\n",
    "ht.PlotCdf()\n",
    "# p-value는 0.17정도가 나옵니다. \n",
    "# 즉, 이 결과는 Statistically significant 하지 않네요."
   ]
  },
  {
   "cell_type": "code",
   "execution_count": 9,
   "metadata": {},
   "outputs": [
    {
     "data": {
      "text/plain": [
       "Ttest_indResult(statistic=1.3802152088125652, pvalue=0.16755412639415004)"
      ]
     },
     "execution_count": 9,
     "metadata": {},
     "output_type": "execute_result"
    }
   ],
   "source": [
    "# t-test 검정을 해 보겠습니다.\n",
    "# 두 개의 independent sample에 대해서는 scipy.stats.ttest_ind를 쓰면 됩니다.\n",
    "scipy.stats.ttest_ind(data[0], data[1], equal_var=True)"
   ]
  },
  {
   "cell_type": "code",
   "execution_count": 10,
   "metadata": {},
   "outputs": [],
   "source": [
    "# 이번에는 one-sided test를 해 봅시다. \n",
    "# 첫째의 임신 기간 평균이 둘째 이후의 임신 기간보다 \"길다\"는 가설을 설정합시다\n",
    "# H0: Mu_A >= Mu_B\n",
    "class DiffMeansOneSided(DiffMeansPermute):\n",
    "    def TestStatistic(self, data):\n",
    "        group1, group2 = data\n",
    "        test_stat = group1.mean() - group2.mean()\n",
    "        return test_stat"
   ]
  },
  {
   "cell_type": "code",
   "execution_count": 11,
   "metadata": {},
   "outputs": [
    {
     "data": {
      "text/plain": [
       "0.073"
      ]
     },
     "execution_count": 11,
     "metadata": {},
     "output_type": "execute_result"
    }
   ],
   "source": [
    "ht = DiffMeansOneSided(data)\n",
    "pvalue = ht.PValue()\n",
    "pvalue\n",
    "# Statistically significant 하지 않네요."
   ]
  },
  {
   "cell_type": "code",
   "execution_count": 12,
   "metadata": {},
   "outputs": [
    {
     "data": {
      "text/plain": [
       "Ttest_indResult(statistic=1.3802152088125652, pvalue=0.16755412639415004)"
      ]
     },
     "execution_count": 12,
     "metadata": {},
     "output_type": "execute_result"
    }
   ],
   "source": [
    "# H0: Mu_A >= Mu_B 를 t-test를 하려면 어떻게 해야할까요?\n",
    "t1 = scipy.stats.ttest_ind(data[0], data[1], equal_var=True)\n",
    "t1\n",
    "# t 분포는 0을 중심으로 대칭입니다. \n",
    "# 그러므로 t값이 0보다 큰지 확인하고, p/2가 alpha보다 큰지를 확인하면 됩니다.\n",
    "# t 값이 0보다 크지만, p/2가 0.84 정도로 귀무가설을 기각할 정도는 아니네요\n",
    "# statistically significant하지 않습니다."
   ]
  },
  {
   "cell_type": "code",
   "execution_count": 13,
   "metadata": {},
   "outputs": [],
   "source": [
    "# Standard deviation은 차이가 있을까요?\n",
    "class DiffStdPermute(DiffMeansPermute):\n",
    "    def TestStatistic(self, data):\n",
    "        group1, group2 = data\n",
    "        test_stat = group1.std() - group2.std()\n",
    "        return test_stat"
   ]
  },
  {
   "cell_type": "code",
   "execution_count": 14,
   "metadata": {},
   "outputs": [
    {
     "data": {
      "text/plain": [
       "0.093"
      ]
     },
     "execution_count": 14,
     "metadata": {},
     "output_type": "execute_result"
    }
   ],
   "source": [
    "ht = DiffStdPermute(data)\n",
    "pvalue = ht.PValue()\n",
    "pvalue\n",
    "# Statistically significant 하지 않네요."
   ]
  },
  {
   "cell_type": "markdown",
   "metadata": {},
   "source": [
    "## Testing correlation\n",
    "관측된 correlation이 실제로 statistically significant 한지 보려면, 둘 중 한 변수의 순서를 랜덤하게 바꾸는 permutation test를 통해서 p-value를 구할 수 있습니다"
   ]
  },
  {
   "cell_type": "code",
   "execution_count": 15,
   "metadata": {},
   "outputs": [],
   "source": [
    "class CorrelationPermute(HypothesisTest):\n",
    "    def TestStatistic(self, data):\n",
    "        xs, ys = data\n",
    "        test_stat = abs(scipy.stats.pearsonr(xs, ys)[0])\n",
    "        return test_stat\n",
    "\n",
    "    def RunModel(self):\n",
    "        xs, ys = self.data\n",
    "        xs = np.random.permutation(xs)\n",
    "        # inlplace이기 떄문에 np.shuffle을 쓰셔도 됩니다.\n",
    "        return xs, ys"
   ]
  },
  {
   "cell_type": "code",
   "execution_count": 16,
   "metadata": {},
   "outputs": [
    {
     "name": "stdout",
     "output_type": "stream",
     "text": [
      "0.0\n"
     ]
    }
   ],
   "source": [
    "cleaned = live.dropna(subset=['agepreg', 'totalwgt_lb'])\n",
    "data = cleaned.agepreg.values, cleaned.totalwgt_lb.values\n",
    "ht = CorrelationPermute(data)\n",
    "pvalue = ht.PValue()\n",
    "print(pvalue)\n",
    "# 사실 p-value가 0은 아닙니다. iteration이 1000번이므로, p-value가 1/1000보다\n",
    "# 작다는 사실만 알려주지요."
   ]
  },
  {
   "cell_type": "code",
   "execution_count": 17,
   "metadata": {},
   "outputs": [
    {
     "name": "stdout",
     "output_type": "stream",
     "text": [
      "(0.0688339703541089, 5.7229471072230746e-11)\n"
     ]
    }
   ],
   "source": [
    "# scipy의 pearsonr은 p-value를 같이 알려줍니다.\n",
    "print(scipy.stats.pearsonr(data[0], data[1]))"
   ]
  },
  {
   "cell_type": "code",
   "execution_count": 18,
   "metadata": {},
   "outputs": [
    {
     "data": {
      "text/plain": [
       "(0.0688339703541089, 0.029427045827589805)"
      ]
     },
     "execution_count": 18,
     "metadata": {},
     "output_type": "execute_result"
    }
   ],
   "source": [
    "# 혹은 실제 correlation이 simulation의 최대값과 얼마나 차이나는지 \n",
    "# 비교할 수도 있습니다\n",
    "ht.actual, ht.MaxTestStat()"
   ]
  },
  {
   "cell_type": "markdown",
   "metadata": {},
   "source": [
    "## Testing proportions\n",
    "6면체 주사위에 대해서 각 면이 나오는 비율에 대한 statistical test를 해 봅시다. 정상 주사위는 당연히 1/6확률로 모든 면이 나와야겠죠."
   ]
  },
  {
   "cell_type": "code",
   "execution_count": 19,
   "metadata": {},
   "outputs": [],
   "source": [
    "class DiceTest(HypothesisTest):\n",
    "    def TestStatistic(self, data):\n",
    "        observed = data\n",
    "        n = sum(observed)\n",
    "        expected = np.ones(6) * n / 6\n",
    "        test_stat = sum(abs(observed - expected))\n",
    "        return test_stat\n",
    "  \n",
    "    def RunModel(self):\n",
    "        from collections import Counter       \n",
    "        n = sum(self.data)\n",
    "        values = [1, 2, 3, 4, 5, 6]\n",
    "        rolls = np.random.choice(values, n, replace=True)        \n",
    "        hist = Counter(rolls)\n",
    "        freqs = np.array([hist.setdefault(x, 0) for x in values])\n",
    "        # 그냥 values 를 쓰면 가끔 한 숫자가 한번도 안뽑히는 에러가 납니다.\n",
    "        # setdefault는 값이 없으면 0을 리턴해줍니다.\n",
    "        return freqs"
   ]
  },
  {
   "cell_type": "code",
   "execution_count": 20,
   "metadata": {},
   "outputs": [
    {
     "name": "stdout",
     "output_type": "stream",
     "text": [
      "0.1313\n"
     ]
    }
   ],
   "source": [
    "data = [8, 9, 19, 5, 8, 11]\n",
    "dt = DiceTest(data)\n",
    "pvalue = dt.PValue(iters=10000)\n",
    "print(pvalue)\n",
    "# 역시나 statistically significant 하지 않습니다. "
   ]
  },
  {
   "cell_type": "code",
   "execution_count": 21,
   "metadata": {},
   "outputs": [],
   "source": [
    "# chi-suqred test를 해 봅시다.\n",
    "# 먼저 직접 구현을 해 봅시다.\n",
    "class DiceChiTest(DiceTest):\n",
    "    def TestStatistic(self, data):\n",
    "        observed = data\n",
    "        n = sum(observed)\n",
    "        expected = np.ones(6) * n / 6\n",
    "        test_stat = sum((observed - expected)**2 / expected)\n",
    "        return test_stat"
   ]
  },
  {
   "cell_type": "code",
   "execution_count": 22,
   "metadata": {},
   "outputs": [
    {
     "name": "stdout",
     "output_type": "stream",
     "text": [
      "0.0401\n"
     ]
    }
   ],
   "source": [
    "dt = DiceChiTest(data)\n",
    "pvalue = dt.PValue(iters=10000)\n",
    "print(pvalue)"
   ]
  },
  {
   "cell_type": "code",
   "execution_count": 23,
   "metadata": {},
   "outputs": [
    {
     "name": "stdout",
     "output_type": "stream",
     "text": [
      "Power_divergenceResult(statistic=11.6, pvalue=0.040699388504049985)\n"
     ]
    }
   ],
   "source": [
    "# scipy.stats의 chi-square test를 써 봅시다.\n",
    "print(scipy.stats.chisquare(data))"
   ]
  },
  {
   "cell_type": "code",
   "execution_count": 24,
   "metadata": {},
   "outputs": [],
   "source": [
    "# chi-square test에서는 statistiaclly significant한 p-value가 나옵니다. \n",
    "# 두가지가 왜 다르게 나올까요? 고민해보세요."
   ]
  },
  {
   "cell_type": "markdown",
   "metadata": {},
   "source": [
    "## Chi-squared test of pregnancy length"
   ]
  },
  {
   "cell_type": "code",
   "execution_count": 25,
   "metadata": {},
   "outputs": [],
   "source": [
    "class PregLengthTest(HypothesisTest):\n",
    "    def MakeModel(self):\n",
    "        from collections import Counter       \n",
    "        firsts, others = self.data\n",
    "        self.n = len(firsts)        \n",
    "        self.pool = np.hstack((firsts, others))\n",
    "        hist = Counter(self.pool)\n",
    "        self.values = range(35, 44)\n",
    "        self.expected_probs = np.array([hist.setdefault(x, 0)/len(self.pool) for x in self.values])\n",
    "\n",
    "    def RunModel(self):\n",
    "        np.random.shuffle(self.pool)\n",
    "        data = self.pool[:self.n], self.pool[self.n:]\n",
    "        return data\n",
    "\n",
    "    def TestStatistic(self, data):\n",
    "        firsts, others = data\n",
    "        stat = self.ChiSquared(firsts) + self.ChiSquared(others)\n",
    "        return stat\n",
    "\n",
    "    def ChiSquared(self, lengths):\n",
    "        from collections import Counter               \n",
    "        hist = Counter(lengths)\n",
    "        observed = np.array([hist.setdefault(x, 0) for x in self.values])\n",
    "        expected = self.expected_probs * len(lengths)\n",
    "        stat = sum((observed - expected)**2 / expected)\n",
    "        return stat"
   ]
  },
  {
   "cell_type": "code",
   "execution_count": 26,
   "metadata": {},
   "outputs": [
    {
     "name": "stdout",
     "output_type": "stream",
     "text": [
      "p-value = 0.0\n",
      "actual = 101.50141482893264\n",
      "ts max = 30.237278273281724\n"
     ]
    }
   ],
   "source": [
    "data = firsts.prglngth.values, others.prglngth.values\n",
    "ht = PregLengthTest(data)\n",
    "p_value = ht.PValue()\n",
    "print('p-value =', p_value)\n",
    "print('actual =', ht.actual)\n",
    "print('ts max =', ht.MaxTestStat())"
   ]
  },
  {
   "cell_type": "code",
   "execution_count": 27,
   "metadata": {},
   "outputs": [
    {
     "name": "stdout",
     "output_type": "stream",
     "text": [
      "Power_divergenceResult(statistic=18289371.172292933, pvalue=0.0)\n",
      "Power_divergenceResult(statistic=21399011.172292933, pvalue=0.0)\n"
     ]
    }
   ],
   "source": [
    "# scipy.statst의 chisquare를 통해서도 구해봅시다\n",
    "\n",
    "from collections import Counter\n",
    "hist = Counter(firsts.prglngth.values)\n",
    "observed = np.array([hist.setdefault(x, 0) for x in range(35, 44)])\n",
    "print(scipy.stats.chisquare(observed, ht.expected_probs))\n",
    "\n",
    "hist = Counter(others.prglngth.values)\n",
    "observed = np.array([hist.setdefault(x, 0) for x in range(35, 44)])\n",
    "print(scipy.stats.chisquare(observed, ht.expected_probs))"
   ]
  },
  {
   "cell_type": "markdown",
   "metadata": {},
   "source": [
    "## power (검정력)\n",
    "실제로 이 test가 얼마나 검정력이 확인하기 위한 테스트를 아래의 함수로 수행해 보겠습니다."
   ]
  },
  {
   "cell_type": "code",
   "execution_count": 28,
   "metadata": {},
   "outputs": [],
   "source": [
    "# 위의 방법을 활용해서 임신 기간에 대해서 chi-squared test를 해 봅시다.\n",
    "# 첫째 아이와 그 이후 아이들의 임신 기간 \"분포\"가 얼마나 다른지 보겠습니다.\n",
    "# 두 경우를 모두 포괄한 것이 모델 분포라고 가정하고, \n",
    "# 첫째 아이와 둘째 이후 아이가 얼마나 이 분포에서 달라지는지 봅시다.\n",
    "\n",
    "def FalseNegRate(data, num_runs=1000):\n",
    "    # Resampling을 통해서 false negative가 얼마나 찾아지는지를 봅시다.\n",
    "    # Type 1 Error를 찾는 것입니다. \n",
    "    group1, group2 = data\n",
    "    count = 0\n",
    "\n",
    "    for i in range(num_runs):\n",
    "        sample1 = np.random.choice(group1, len(group1), replace=True)\n",
    "        sample2 = np.random.choice(group2, len(group2), replace=True)\n",
    "        ht = DiffMeansPermute((sample1, sample2))\n",
    "        p_value = ht.PValue(iters=101)\n",
    "        if p_value > 0.05:\n",
    "            count += 1\n",
    "\n",
    "    return count / num_runs"
   ]
  },
  {
   "cell_type": "code",
   "execution_count": 29,
   "metadata": {},
   "outputs": [
    {
     "data": {
      "text/plain": [
       "0.688"
      ]
     },
     "execution_count": 29,
     "metadata": {},
     "output_type": "execute_result"
    }
   ],
   "source": [
    "neg_rate = FalseNegRate(data)\n",
    "neg_rate"
   ]
  },
  {
   "cell_type": "markdown",
   "metadata": {},
   "source": [
    "결과는 약 70%입니다. 이 값이 의미하는 바는 평균 임신기간의 실제 차이가 0.078주라면, 이 표본 실험은 대략 70%정도 False Negative를 찾아낸다는 것입니다. 즉, True positive를 찾아내느 경우는 단 30%에 지나지 않습니다. 이 검정은 그래서 검정력이 부족합니다 (underpowered)."
   ]
  },
  {
   "cell_type": "markdown",
   "metadata": {},
   "source": [
    "## Excercieses"
   ]
  },
  {
   "cell_type": "markdown",
   "metadata": {},
   "source": [
    "**Excercise:** 표본크기가 증가함에 따라, 가설검정력은 증가합니다. 반대로 표본크기가 줄어들면 검정력은 효과가 실제로 있다고 해도 작아질 것입니다. 데이터프레임에 임의로 일부 행을 선택해서, 표본 크기를 감소시켜봅시다. 그리고 표본 크기에 따라 p-value값이 어느정도 변하는지 확인해 봅시다. \n",
    "\n",
    "샘플링은 ```pandas.DataFrame.sample``` 을 사용하면 됩니다."
   ]
  },
  {
   "cell_type": "code",
   "execution_count": 30,
   "metadata": {},
   "outputs": [
    {
     "name": "stdout",
     "output_type": "stream",
     "text": [
      "sample size: 200\n",
      "  p-value = 0.684\n",
      "  actual = 6.150520578728668\n",
      "  ts max = 27.708088843536462\n",
      "sample size: 400\n",
      "  p-value = 0.94\n",
      "  actual = 3.006797282159601\n",
      "  ts max = 22.78827808476383\n",
      "sample size: 800\n",
      "  p-value = 0.045\n",
      "  actual = 15.5478999775656\n",
      "  ts max = 25.55348062388463\n",
      "sample size: 1600\n",
      "  p-value = 0.0\n",
      "  actual = 29.19750079018748\n",
      "  ts max = 23.84244054861499\n",
      "sample size: 3200\n",
      "  p-value = 0.0\n",
      "  actual = 50.81103728668239\n",
      "  ts max = 37.45484102584525\n",
      "sample size: 6400\n",
      "  p-value = 0.0\n",
      "  actual = 68.20167841662891\n",
      "  ts max = 27.509154667980418\n"
     ]
    }
   ],
   "source": [
    "# solution goes here\n",
    "for samplesize in [200, 400, 800, 1600, 3200, 6400]:\n",
    "    live_sample = live.sample(samplesize, replace=False)\n",
    "    firsts_sample = live_sample[live_sample.birthord == 1]\n",
    "    others_sample = live_sample[live_sample.birthord != 1]\n",
    "    data = firsts_sample.prglngth.values, others_sample.prglngth.values\n",
    "    ht = PregLengthTest(data)\n",
    "    p_value = ht.PValue()\n",
    "    \n",
    "    print('sample size:', samplesize)\n",
    "    print('  p-value =', p_value)\n",
    "    print('  actual =', ht.actual)\n",
    "    print('  ts max =', ht.MaxTestStat())"
   ]
  },
  {
   "cell_type": "markdown",
   "metadata": {},
   "source": [
    "**Exercise:** 앞에서 우리는 null hypothesis를 permutation을 통해 simulation했습니다. 이 방법은 우리의 데이터의 값들이 전체 population을 대표하는 값으로 간주하고 하는 방법입니다.\n",
    "\n",
    "이와 다른 방법으로는 sample을 통헤서 population distribution을 추정하고, 그 distribution에서 뽑은 random sample을 통해서 p-value를 구하는 것입니다. 이 방법을 resampling이라고 합니다. 위의 ```np.random.choice(group1, len(group1), replace=True)``` 같은 형태로 말이죠.\n",
    "\n",
    "`DiffMeansResample`라는 클래스를 `DiffMeansPermute`를 상속해서 만드시고, `RunModel`을 permuation 대신 reampling으로 만들어 보세요. 그리고 이 모델을 통해 임신기간(```prglngth```) 과 몸무게(```totalwgt_lb```)에 대한 실험을 수행해보세요. 결과가 얼마나 달라지나요?"
   ]
  },
  {
   "cell_type": "code",
   "execution_count": 31,
   "metadata": {},
   "outputs": [
    {
     "name": "stdout",
     "output_type": "stream",
     "text": [
      "means permute preglength\n",
      "  p-value = 0.1686\n",
      "  actual = 0.07803726677754952\n",
      "  ts max = 0.23082823117164963\n",
      "means resample preglength\n",
      "  p-value = 0.1646\n",
      "  actual = 0.07803726677754952\n",
      "  ts max = 0.2325069614087809\n",
      "means permute birthweight\n",
      "  p-value = 0.0001\n",
      "  actual = 0.12476118453549034\n",
      "  ts max = 0.13342988131847644\n",
      "means resample birthweight\n",
      "  p-value = 0.0\n",
      "  actual = 0.12476118453549034\n",
      "  ts max = 0.10393988216418837\n"
     ]
    }
   ],
   "source": [
    "# solution goes here\n",
    "\n",
    "class DiffMeansResample(DiffMeansPermute):   \n",
    "    def RunModel(self):\n",
    "        group1 = np.random.choice(self.pool, self.n, replace=True)\n",
    "        group2 = np.random.choice(self.pool, self.m, replace=True)\n",
    "        return group1, group2\n",
    "    \n",
    "def RunResampleTest(firsts, others):\n",
    "    data = firsts.prglngth.values, others.prglngth.values\n",
    "    ht = DiffMeansPermute(data)\n",
    "    p_value = ht.PValue(iters=10000)\n",
    "    print('means permute preglength')\n",
    "    print('  p-value =', p_value)\n",
    "    print('  actual =', ht.actual)\n",
    "    print('  ts max =', ht.MaxTestStat())\n",
    "    \n",
    "    ht = DiffMeansResample(data)   \n",
    "    p_value = ht.PValue(iters=10000)\n",
    "    print('means resample preglength')\n",
    "    print('  p-value =', p_value)\n",
    "    print('  actual =', ht.actual)\n",
    "    print('  ts max =', ht.MaxTestStat())\n",
    "\n",
    "    data = (firsts.totalwgt_lb.dropna().values,\n",
    "            others.totalwgt_lb.dropna().values)\n",
    "    ht = DiffMeansPermute(data)\n",
    "    p_value = ht.PValue(iters=10000)\n",
    "    print('means permute birthweight')\n",
    "    print('  p-value =', p_value)\n",
    "    print('  actual =', ht.actual)\n",
    "    print('  ts max =', ht.MaxTestStat())\n",
    "    \n",
    "    ht = DiffMeansResample(data)\n",
    "    p_value = ht.PValue(iters=10000)\n",
    "    print('means resample birthweight')\n",
    "    print('  p-value =', p_value)\n",
    "    print('  actual =', ht.actual)\n",
    "    print('  ts max =', ht.MaxTestStat())\n",
    "    \n",
    "RunResampleTest(firsts, others)    "
   ]
  }
 ],
 "metadata": {
  "kernelspec": {
   "display_name": "Python 3",
   "language": "python",
   "name": "python3"
  },
  "language_info": {
   "codemirror_mode": {
    "name": "ipython",
    "version": 3
   },
   "file_extension": ".py",
   "mimetype": "text/x-python",
   "name": "python",
   "nbconvert_exporter": "python",
   "pygments_lexer": "ipython3",
   "version": "3.8.3"
  }
 },
 "nbformat": 4,
 "nbformat_minor": 4
}
